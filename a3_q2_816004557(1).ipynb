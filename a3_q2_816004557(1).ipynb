{
  "nbformat": 4,
  "nbformat_minor": 0,
  "metadata": {
    "colab": {
      "provenance": [],
      "authorship_tag": "ABX9TyPeBOrJhMwk4ze+eumvGkYM",
      "include_colab_link": true
    },
    "kernelspec": {
      "name": "python3",
      "display_name": "Python 3"
    },
    "language_info": {
      "name": "python"
    }
  },
  "cells": [
    {
      "cell_type": "markdown",
      "metadata": {
        "id": "view-in-github",
        "colab_type": "text"
      },
      "source": [
        "<a href=\"https://colab.research.google.com/github/Sirju1997/My_first_binder1/blob/main/a3_q2_816004557(1).ipynb\" target=\"_parent\"><img src=\"https://colab.research.google.com/assets/colab-badge.svg\" alt=\"Open In Colab\"/></a>"
      ]
    },
    {
      "cell_type": "markdown",
      "source": [
        "# **Assignment 3, Question - 2**\n",
        "**816004557**"
      ],
      "metadata": {
        "id": "4fLIvQzSqRjF"
      }
    },
    {
      "cell_type": "markdown",
      "source": [
        "**What are the implications of loading additional features (that might not be necessary for analysis)\n",
        "into PySpark**"
      ],
      "metadata": {
        "id": "mBA6LLAiypL-"
      }
    },
    {
      "cell_type": "markdown",
      "source": [
        "Loading additional features into PySpark without considering their necessity for analysis can lead to several implications.\n",
        "\n",
        "Firstly, it can increase resource consumption and slow down job execution due to added computational overhead. This complexity in data processing can make pipelines harder to understand and maintain.\n",
        "\n",
        "Additionally, including unnecessary features in machine learning models raises the risk of overfitting and decreases generalization performance.\n",
        "\n",
        "Lastly, debugging and troubleshooting become more challenging with unnecessary features, emphasizing the importance of carefully considering which features are truly needed for analysis to optimize performance and maintain data integrity.\n"
      ],
      "metadata": {
        "id": "a8PYvaRTyswG"
      }
    },
    {
      "cell_type": "markdown",
      "source": [
        "**Create a sql context from PySpark SQLContext**"
      ],
      "metadata": {
        "id": "n5P1ydu2y0BP"
      }
    },
    {
      "cell_type": "code",
      "execution_count": 134,
      "metadata": {
        "colab": {
          "base_uri": "https://localhost:8080/"
        },
        "id": "0x58ADg_yZtZ",
        "outputId": "bb66c742-0a12-4afd-db32-b6b2b397ec0b"
      },
      "outputs": [
        {
          "output_type": "stream",
          "name": "stdout",
          "text": [
            "\r0% [Working]\r            \rHit:1 https://cloud.r-project.org/bin/linux/ubuntu jammy-cran40/ InRelease\n",
            "\r0% [Connecting to archive.ubuntu.com] [Waiting for headers] [Connecting to ppa.launchpadcontent.net \r                                                                                                    \rGet:2 http://security.ubuntu.com/ubuntu jammy-security InRelease [110 kB]\n",
            "Hit:3 https://developer.download.nvidia.com/compute/cuda/repos/ubuntu2204/x86_64  InRelease\n",
            "Hit:4 http://archive.ubuntu.com/ubuntu jammy InRelease\n",
            "Get:5 http://archive.ubuntu.com/ubuntu jammy-updates InRelease [119 kB]\n",
            "Hit:6 http://archive.ubuntu.com/ubuntu jammy-backports InRelease\n",
            "Hit:7 https://ppa.launchpadcontent.net/c2d4u.team/c2d4u4.0+/ubuntu jammy InRelease\n",
            "Hit:8 https://ppa.launchpadcontent.net/deadsnakes/ppa/ubuntu jammy InRelease\n",
            "Hit:9 https://ppa.launchpadcontent.net/graphics-drivers/ppa/ubuntu jammy InRelease\n",
            "Get:10 http://archive.ubuntu.com/ubuntu jammy-updates/restricted amd64 Packages [2,166 kB]\n",
            "Hit:11 https://ppa.launchpadcontent.net/ubuntugis/ppa/ubuntu jammy InRelease\n",
            "Get:12 http://archive.ubuntu.com/ubuntu jammy-updates/multiverse amd64 Packages [61.3 kB]\n",
            "Fetched 2,457 kB in 2s (1,602 kB/s)\n",
            "Reading package lists... Done\n",
            "a3_amazon.csv  spark-3.1.1-bin-hadoop3.2      spark-3.1.1-bin-hadoop3.2.tgz.1\n",
            "sample_data    spark-3.1.1-bin-hadoop3.2.tgz  spark-3.1.1-bin-hadoop3.2.tgz.2\n"
          ]
        }
      ],
      "source": [
        "!apt-get update # Update apt-get repository.\n",
        "!apt-get install openjdk-8-jdk-headless -qq > /dev/null # Install Java.\n",
        "!wget -q http://archive.apache.org/dist/spark/spark-3.1.1/spark-3.1.1-bin-hadoop3.2.tgz # Download Apache Sparks.\n",
        "!tar xf spark-3.1.1-bin-hadoop3.2.tgz # Unzip the tgz file.\n",
        "!pip install -q findspark # Install findspark. Adds PySpark to the System path during runtime.\n",
        "\n",
        "# Set environment variables\n",
        "import os\n",
        "os.environ[\"JAVA_HOME\"] = \"/usr/lib/jvm/java-8-openjdk-amd64\"\n",
        "os.environ[\"SPARK_HOME\"] = \"/content/spark-3.1.1-bin-hadoop3.2\"\n",
        "\n",
        "!ls\n",
        "\n",
        "# Initialize findspark\n",
        "import findspark\n",
        "findspark.init()"
      ]
    },
    {
      "cell_type": "code",
      "source": [
        "# Create a PySpark session\n",
        "from pyspark.sql import SparkSession\n",
        "spark = SparkSession.builder.master(\"local[*]\").getOrCreate()\n",
        "spark"
      ],
      "metadata": {
        "colab": {
          "base_uri": "https://localhost:8080/",
          "height": 219
        },
        "id": "nMjI9HnpzB5W",
        "outputId": "855e6e13-edcd-41ec-85b9-9c8f038ab092"
      },
      "execution_count": 135,
      "outputs": [
        {
          "output_type": "execute_result",
          "data": {
            "text/plain": [
              "<pyspark.sql.session.SparkSession at 0x7862301122f0>"
            ],
            "text/html": [
              "\n",
              "            <div>\n",
              "                <p><b>SparkSession - in-memory</b></p>\n",
              "                \n",
              "        <div>\n",
              "            <p><b>SparkContext</b></p>\n",
              "\n",
              "            <p><a href=\"http://46d19eac863a:4040\">Spark UI</a></p>\n",
              "\n",
              "            <dl>\n",
              "              <dt>Version</dt>\n",
              "                <dd><code>v3.1.1</code></dd>\n",
              "              <dt>Master</dt>\n",
              "                <dd><code>local[*]</code></dd>\n",
              "              <dt>AppName</dt>\n",
              "                <dd><code>pyspark-shell</code></dd>\n",
              "            </dl>\n",
              "        </div>\n",
              "        \n",
              "            </div>\n",
              "        "
            ]
          },
          "metadata": {},
          "execution_count": 135
        }
      ]
    },
    {
      "cell_type": "markdown",
      "source": [
        "**Load the Amazon Review Dataset into a PySpark RDD, then Convert the RDD to a PySpark DataFrame**"
      ],
      "metadata": {
        "id": "reGRIgKxz3SH"
      }
    },
    {
      "cell_type": "code",
      "source": [
        "df = spark.read.csv(r\"/content/a3_amazon.csv\", header = True, sep=',',inferSchema=False).toDF('Rating','ReviewerID','ProductID','Timestamp','ReviewText')"
      ],
      "metadata": {
        "id": "Pc7wDetDz110"
      },
      "execution_count": 136,
      "outputs": []
    },
    {
      "cell_type": "code",
      "source": [
        "df.show()"
      ],
      "metadata": {
        "colab": {
          "base_uri": "https://localhost:8080/"
        },
        "id": "yJQjRXbT0Eu6",
        "outputId": "5c9b3edf-e003-4bf0-8ad9-69c0df822049"
      },
      "execution_count": 137,
      "outputs": [
        {
          "output_type": "stream",
          "name": "stdout",
          "text": [
            "+------+--------------+----------+----------+--------------------+\n",
            "|Rating|    ReviewerID| ProductID| Timestamp|          ReviewText|\n",
            "+------+--------------+----------+----------+--------------------+\n",
            "|     1|A3SK6VNBQDNBJE|1118461304|1383264000|I have enjoyed Dr...|\n",
            "|     3|A3SOFHUR27FO3K|1118461304|1381363200|Alan Gregerman be...|\n",
            "|     1|A1HOG1PYCAE157|1118461304|1381276800|Alan Gregerman is...|\n",
            "|     6|A26JGAM6GZMM4V|1118461304|1378512000|As I began to rea...|\n",
            "|     5|A17K8WANMYHTX2|1118461304|1399766400|I teach a class o...|\n",
            "|     3|A13IW3A6W43U0G|1118461304|1399593600|I so appreciated ...|\n",
            "|     6|A1ECEGG1MP7J8J|1118461304|1399420800|As with Surrounde...|\n",
            "|     1|A2D5X9G9S3A7RN|1118461304|1399161600|Alan Gregermans b...|\n",
            "|     6| AP2F86JFRQ205|1118461304|1398988800|I am a believer i...|\n",
            "|    10|A3VF3A5A3O04E1|1118461304|1397174400|A compelling book...|\n",
            "|     7|A14DW5UMQ1M96O|1118461304|1395273600|Alan Gregerman's ...|\n",
            "|     4|A2V7UVKOFG57IW|1118461304|1393459200|So refreshing to ...|\n",
            "|     9|A2BM5NTLX7CES1|1118461304|1391040000|In this book, the...|\n",
            "|     2|A1EQ5D5JRSW23K|1118461304|1390003200|What a great titl...|\n",
            "|     9|A1R2JUOGIYH6HO|1118461304|1389916800|The title of this...|\n",
            "|     8|A3JRW716H3AX14|1118461304|1389830400|This is a well wr...|\n",
            "|     8|A3KGLXW3EYDTUH|1118461304|1389744000|Common sense and ...|\n",
            "|     4|A1B70ZEWQ6UH1A|1118461304|1389398400|The stated premis...|\n",
            "|    10|A2I5QME4S7CLFI|1118461304|1389139200|I usually find bu...|\n",
            "|     6|A33HIV8RXRDM88|1118461304|1388966400|Seriously! We alw...|\n",
            "+------+--------------+----------+----------+--------------------+\n",
            "only showing top 20 rows\n",
            "\n"
          ]
        }
      ]
    },
    {
      "cell_type": "code",
      "source": [
        "df.printSchema()"
      ],
      "metadata": {
        "colab": {
          "base_uri": "https://localhost:8080/"
        },
        "id": "k8wge8o82FS3",
        "outputId": "c4bd2366-8ce4-472c-eb83-22e2711d4c8b"
      },
      "execution_count": 138,
      "outputs": [
        {
          "output_type": "stream",
          "name": "stdout",
          "text": [
            "root\n",
            " |-- Rating: string (nullable = true)\n",
            " |-- ReviewerID: string (nullable = true)\n",
            " |-- ProductID: string (nullable = true)\n",
            " |-- Timestamp: string (nullable = true)\n",
            " |-- ReviewText: string (nullable = true)\n",
            "\n"
          ]
        }
      ]
    },
    {
      "cell_type": "code",
      "source": [
        "from pyspark.sql import functions as F\n",
        "\n",
        "# Convert the Timestamp column to date format\n",
        "df = df.withColumn('Timestamp_date', F.to_date(F.from_unixtime(df.Timestamp)))\n",
        "\n",
        "# Show the DataFrame with the new column\n",
        "df.show()\n"
      ],
      "metadata": {
        "colab": {
          "base_uri": "https://localhost:8080/"
        },
        "id": "LY4ljVTM8qFN",
        "outputId": "4ef6d585-19bd-4df5-b53e-0fe265f432ca"
      },
      "execution_count": 139,
      "outputs": [
        {
          "output_type": "stream",
          "name": "stdout",
          "text": [
            "+------+--------------+----------+----------+--------------------+--------------+\n",
            "|Rating|    ReviewerID| ProductID| Timestamp|          ReviewText|Timestamp_date|\n",
            "+------+--------------+----------+----------+--------------------+--------------+\n",
            "|     1|A3SK6VNBQDNBJE|1118461304|1383264000|I have enjoyed Dr...|    2013-11-01|\n",
            "|     3|A3SOFHUR27FO3K|1118461304|1381363200|Alan Gregerman be...|    2013-10-10|\n",
            "|     1|A1HOG1PYCAE157|1118461304|1381276800|Alan Gregerman is...|    2013-10-09|\n",
            "|     6|A26JGAM6GZMM4V|1118461304|1378512000|As I began to rea...|    2013-09-07|\n",
            "|     5|A17K8WANMYHTX2|1118461304|1399766400|I teach a class o...|    2014-05-11|\n",
            "|     3|A13IW3A6W43U0G|1118461304|1399593600|I so appreciated ...|    2014-05-09|\n",
            "|     6|A1ECEGG1MP7J8J|1118461304|1399420800|As with Surrounde...|    2014-05-07|\n",
            "|     1|A2D5X9G9S3A7RN|1118461304|1399161600|Alan Gregermans b...|    2014-05-04|\n",
            "|     6| AP2F86JFRQ205|1118461304|1398988800|I am a believer i...|    2014-05-02|\n",
            "|    10|A3VF3A5A3O04E1|1118461304|1397174400|A compelling book...|    2014-04-11|\n",
            "|     7|A14DW5UMQ1M96O|1118461304|1395273600|Alan Gregerman's ...|    2014-03-20|\n",
            "|     4|A2V7UVKOFG57IW|1118461304|1393459200|So refreshing to ...|    2014-02-27|\n",
            "|     9|A2BM5NTLX7CES1|1118461304|1391040000|In this book, the...|    2014-01-30|\n",
            "|     2|A1EQ5D5JRSW23K|1118461304|1390003200|What a great titl...|    2014-01-18|\n",
            "|     9|A1R2JUOGIYH6HO|1118461304|1389916800|The title of this...|    2014-01-17|\n",
            "|     8|A3JRW716H3AX14|1118461304|1389830400|This is a well wr...|    2014-01-16|\n",
            "|     8|A3KGLXW3EYDTUH|1118461304|1389744000|Common sense and ...|    2014-01-15|\n",
            "|     4|A1B70ZEWQ6UH1A|1118461304|1389398400|The stated premis...|    2014-01-11|\n",
            "|    10|A2I5QME4S7CLFI|1118461304|1389139200|I usually find bu...|    2014-01-08|\n",
            "|     6|A33HIV8RXRDM88|1118461304|1388966400|Seriously! We alw...|    2014-01-06|\n",
            "+------+--------------+----------+----------+--------------------+--------------+\n",
            "only showing top 20 rows\n",
            "\n"
          ]
        }
      ]
    },
    {
      "cell_type": "code",
      "source": [
        "df.printSchema()\n"
      ],
      "metadata": {
        "colab": {
          "base_uri": "https://localhost:8080/"
        },
        "id": "b8BWV2Jt2QEm",
        "outputId": "b33972ef-8439-4bf9-bade-3ee97c0cbc9f"
      },
      "execution_count": 140,
      "outputs": [
        {
          "output_type": "stream",
          "name": "stdout",
          "text": [
            "root\n",
            " |-- Rating: string (nullable = true)\n",
            " |-- ReviewerID: string (nullable = true)\n",
            " |-- ProductID: string (nullable = true)\n",
            " |-- Timestamp: string (nullable = true)\n",
            " |-- ReviewText: string (nullable = true)\n",
            " |-- Timestamp_date: date (nullable = true)\n",
            "\n"
          ]
        }
      ]
    },
    {
      "cell_type": "code",
      "source": [
        "df.show()"
      ],
      "metadata": {
        "colab": {
          "base_uri": "https://localhost:8080/"
        },
        "id": "TlYSN_rs2S24",
        "outputId": "ecd1552d-b5fa-4ece-fed5-c72ed66fc13d"
      },
      "execution_count": 141,
      "outputs": [
        {
          "output_type": "stream",
          "name": "stdout",
          "text": [
            "+------+--------------+----------+----------+--------------------+--------------+\n",
            "|Rating|    ReviewerID| ProductID| Timestamp|          ReviewText|Timestamp_date|\n",
            "+------+--------------+----------+----------+--------------------+--------------+\n",
            "|     1|A3SK6VNBQDNBJE|1118461304|1383264000|I have enjoyed Dr...|    2013-11-01|\n",
            "|     3|A3SOFHUR27FO3K|1118461304|1381363200|Alan Gregerman be...|    2013-10-10|\n",
            "|     1|A1HOG1PYCAE157|1118461304|1381276800|Alan Gregerman is...|    2013-10-09|\n",
            "|     6|A26JGAM6GZMM4V|1118461304|1378512000|As I began to rea...|    2013-09-07|\n",
            "|     5|A17K8WANMYHTX2|1118461304|1399766400|I teach a class o...|    2014-05-11|\n",
            "|     3|A13IW3A6W43U0G|1118461304|1399593600|I so appreciated ...|    2014-05-09|\n",
            "|     6|A1ECEGG1MP7J8J|1118461304|1399420800|As with Surrounde...|    2014-05-07|\n",
            "|     1|A2D5X9G9S3A7RN|1118461304|1399161600|Alan Gregermans b...|    2014-05-04|\n",
            "|     6| AP2F86JFRQ205|1118461304|1398988800|I am a believer i...|    2014-05-02|\n",
            "|    10|A3VF3A5A3O04E1|1118461304|1397174400|A compelling book...|    2014-04-11|\n",
            "|     7|A14DW5UMQ1M96O|1118461304|1395273600|Alan Gregerman's ...|    2014-03-20|\n",
            "|     4|A2V7UVKOFG57IW|1118461304|1393459200|So refreshing to ...|    2014-02-27|\n",
            "|     9|A2BM5NTLX7CES1|1118461304|1391040000|In this book, the...|    2014-01-30|\n",
            "|     2|A1EQ5D5JRSW23K|1118461304|1390003200|What a great titl...|    2014-01-18|\n",
            "|     9|A1R2JUOGIYH6HO|1118461304|1389916800|The title of this...|    2014-01-17|\n",
            "|     8|A3JRW716H3AX14|1118461304|1389830400|This is a well wr...|    2014-01-16|\n",
            "|     8|A3KGLXW3EYDTUH|1118461304|1389744000|Common sense and ...|    2014-01-15|\n",
            "|     4|A1B70ZEWQ6UH1A|1118461304|1389398400|The stated premis...|    2014-01-11|\n",
            "|    10|A2I5QME4S7CLFI|1118461304|1389139200|I usually find bu...|    2014-01-08|\n",
            "|     6|A33HIV8RXRDM88|1118461304|1388966400|Seriously! We alw...|    2014-01-06|\n",
            "+------+--------------+----------+----------+--------------------+--------------+\n",
            "only showing top 20 rows\n",
            "\n"
          ]
        }
      ]
    },
    {
      "cell_type": "code",
      "source": [
        "df1 = df.filter(F.year('Timestamp_date')==F.lit(2015))"
      ],
      "metadata": {
        "id": "7aYuKQ77_uh3"
      },
      "execution_count": 142,
      "outputs": []
    },
    {
      "cell_type": "code",
      "source": [
        "# Sort DataFrame df1 by the 'Rating' column in descending order\n",
        "df1_sorted = df1.sort(\"Rating\", ascending=False)\n",
        "\n",
        "# Display the top 20 rows of the sorted DataFrame\n",
        "df1_sorted.show(20)\n",
        "\n",
        "# Group the sorted DataFrame by 'ProductID' and count the occurrences of each product\n",
        "Prod_20 = df1_sorted.groupBy('ProductID').agg(F.count(\"*\").alias('Product_count'))\n",
        "\n",
        "# Sort the grouped DataFrame by 'Product_count' in descending order\n",
        "Prod_20 = Prod_20.sort('Product_count', ascending=False)\n",
        "\n",
        "# Display the resulting DataFrame showing the count of each product\n",
        "Prod_20.show()\n"
      ],
      "metadata": {
        "colab": {
          "base_uri": "https://localhost:8080/"
        },
        "id": "tnYKV9p4A0NN",
        "outputId": "e36f01f5-fd93-4a45-a47e-6eb463140878"
      },
      "execution_count": 143,
      "outputs": [
        {
          "output_type": "stream",
          "name": "stdout",
          "text": [
            "+------+--------------+----------+----------+--------------------+--------------+\n",
            "|Rating|    ReviewerID| ProductID| Timestamp|          ReviewText|Timestamp_date|\n",
            "+------+--------------+----------+----------+--------------------+--------------+\n",
            "|     9|A2169CG0W2XTLK|B00GOHJR7K|1436054400|Love it, fast del...|    2015-07-05|\n",
            "|     9|A34QDBXNXHMPT8|B00GS9ICU2|1427587200|Fit my dryer perf...|    2015-03-29|\n",
            "|     9|A1C85REV513NSV|B00GRY0JTU|1424995200|It works well, ex...|    2015-02-27|\n",
            "|     9|A2OKTV6UCQF3QA|B00GS3G0B6|1439510400|               great|    2015-08-14|\n",
            "|     9|A3AK07JRVE4FM6|B00GOFPA46|1423612800|Works great and m...|    2015-02-11|\n",
            "|     9|A3FC1URWMXN0DS|B00GS3G0B6|1429142400| Great.  As expected|    2015-04-16|\n",
            "|     9|A13NKGBGJCAYFU|B00GOFSTGM|1445385600|Better then I tho...|    2015-10-21|\n",
            "|     9|A3QD0MJQ70KFDS|B00GS3G0B6|1426291200|Perfect fit for m...|    2015-03-14|\n",
            "|     9|A2X7Z8ZF5PE3D0|B00GOFSTGM|1423526400|The hood is great...|    2015-02-10|\n",
            "|     9|A36IGBPJOZ6ICT|B00GS9GJ3O|1431561600|Perfect fit, easy...|    2015-05-14|\n",
            "|     9|A18Y080O8HYB0J|B00GOFUISY|1443225600|Very hard to inst...|    2015-09-26|\n",
            "|     9|A3C5QMGXJZ18LI|B00GS9ICU2|1442707200|Don't waste your ...|    2015-09-20|\n",
            "|     9|A2Z1RACFCLACCI|B00GNM8V0A|1428537600|Quality looks goo...|    2015-04-09|\n",
            "|     9|A3ONHT4NL5WPY6|B00GS9ICU2|1442448000|Great product. Fa...|    2015-09-17|\n",
            "|     9|A11NSQX11PCBP8|B00GS9ICU2|1428969600|Perfect item, gre...|    2015-04-14|\n",
            "|     9|A2EF0XFPSBMSAR|B00GS9ICU2|1437782400|              Great!|    2015-07-25|\n",
            "|     9|A3J6W4671EMGGN|B00GOFSTGM|1441065600|Looks nice. Howev...|    2015-09-01|\n",
            "|     9|A3TTFM2W1ZP7XW|B00GS9ICU2|1437696000|arrived on time j...|    2015-07-24|\n",
            "|     9|A1TXVIZUUYI9MG|B00GNM8V0A|1431043200|Took under 15 min...|    2015-05-08|\n",
            "|     9|A3INL4F2A9R0JT|B00GS9ICU2|1431993600|Didn't work berry...|    2015-05-19|\n",
            "+------+--------------+----------+----------+--------------------+--------------+\n",
            "only showing top 20 rows\n",
            "\n",
            "+----------+-------------+\n",
            "| ProductID|Product_count|\n",
            "+----------+-------------+\n",
            "|B000AST3AK|         1487|\n",
            "|B004UB1O9Q|         1471|\n",
            "|B00KJ07SEM|         1415|\n",
            "|B004INUWX0|          715|\n",
            "|B00E37TQV0|          658|\n",
            "|B0045LLC7K|          655|\n",
            "|B0014CN8Y8|          578|\n",
            "|B0042ACZU2|          555|\n",
            "|B00SPYDSFC|          453|\n",
            "|B001B35APA|          443|\n",
            "|B00DT5746Q|          433|\n",
            "|B00NIZ0DV0|          426|\n",
            "|B00INXG9MY|          421|\n",
            "|B000VL060M|          396|\n",
            "|B00AHR3IG4|          387|\n",
            "|B000HE5DNI|          386|\n",
            "|B00E37TR6E|          380|\n",
            "|B0053F80JA|          372|\n",
            "|B00LLM6ZFK|          363|\n",
            "|B0009GVYNW|          362|\n",
            "+----------+-------------+\n",
            "only showing top 20 rows\n",
            "\n"
          ]
        }
      ]
    },
    {
      "cell_type": "code",
      "source": [
        "# Add a new column 'ProdIndex' to DataFrame Prod_20 with monotonically increasing IDs\n",
        "prod_index = Prod_20.withColumn(\"ProdIndex\", F.monotonically_increasing_id())\n",
        "\n",
        "# Filter the DataFrame to keep only rows where 'ProdIndex' is less than 20\n",
        "prod_index = prod_index.where(F.col('ProdIndex') < 20)\n",
        "\n",
        "# Display the filtered DataFrame\n",
        "prod_index.show()"
      ],
      "metadata": {
        "colab": {
          "base_uri": "https://localhost:8080/"
        },
        "id": "DjpIVOnBUp_T",
        "outputId": "3e72bc91-3a1b-425c-abe2-eda98c73f6d5"
      },
      "execution_count": 168,
      "outputs": [
        {
          "output_type": "stream",
          "name": "stdout",
          "text": [
            "+----------+-------------+---------+\n",
            "| ProductID|Product_count|ProdIndex|\n",
            "+----------+-------------+---------+\n",
            "|B000AST3AK|         1487|        0|\n",
            "|B004UB1O9Q|         1471|        1|\n",
            "|B00KJ07SEM|         1415|        2|\n",
            "|B004INUWX0|          715|        3|\n",
            "|B00E37TQV0|          658|        4|\n",
            "|B0045LLC7K|          655|        5|\n",
            "|B0014CN8Y8|          578|        6|\n",
            "|B0042ACZU2|          555|        7|\n",
            "|B00SPYDSFC|          453|        8|\n",
            "|B001B35APA|          443|        9|\n",
            "|B00DT5746Q|          433|       10|\n",
            "|B00NIZ0DV0|          426|       11|\n",
            "|B00INXG9MY|          421|       12|\n",
            "|B000VL060M|          396|       13|\n",
            "|B00AHR3IG4|          387|       14|\n",
            "|B000HE5DNI|          386|       15|\n",
            "|B00E37TR6E|          380|       16|\n",
            "|B0053F80JA|          372|       17|\n",
            "|B00LLM6ZFK|          363|       18|\n",
            "|B0009GVYNW|          362|       19|\n",
            "+----------+-------------+---------+\n",
            "\n"
          ]
        }
      ]
    },
    {
      "cell_type": "markdown",
      "source": [
        "**Show the top 20 reviewers and the products they\n",
        "reviewed in 2015**"
      ],
      "metadata": {
        "id": "RdDZ2c-cBcp-"
      }
    },
    {
      "cell_type": "code",
      "source": [
        "# Group the sorted DataFrame df1_sorted by 'ReviewerID' and count the number of reviews by each reviewer\n",
        "reviewers = df1_sorted.groupBy('ReviewerID').agg(F.count(\"*\").alias('Reviewers_count'))\n",
        "\n",
        "# Sort the grouped DataFrame by the number of reviews in descending order\n",
        "reviewers = reviewers.sort('Reviewers_count', ascending=False)\n",
        "\n",
        "# Display the resulting DataFrame showing the count of reviews for each reviewer\n",
        "reviewers.show()\n",
        "\n",
        "# Add a new column 'ReviewerIndex' to DataFrame reviewers with monotonically increasing IDs\n",
        "reviewers_index = reviewers.withColumn(\"ReviewerIndex\", F.monotonically_increasing_id())\n",
        "\n",
        "# Display the first 20 rows of the DataFrame with the 'ReviewerIndex' column added\n",
        "reviewers_index.show(20)"
      ],
      "metadata": {
        "colab": {
          "base_uri": "https://localhost:8080/"
        },
        "id": "MXOz4pC6Bhx2",
        "outputId": "1e33e2c3-6510-497f-d320-fbaf16132495"
      },
      "execution_count": 169,
      "outputs": [
        {
          "output_type": "stream",
          "name": "stdout",
          "text": [
            "+--------------+---------------+\n",
            "|    ReviewerID|Reviewers_count|\n",
            "+--------------+---------------+\n",
            "|A2LDP3A4IE9T6T|            206|\n",
            "| AFUVGAUNQVT0S|             40|\n",
            "|A3H61AMBJ177DG|             29|\n",
            "|A3RSUFA7CIL3TS|             23|\n",
            "|A37C9W32E7WE1B|             18|\n",
            "|A37DQO5LU8DXTV|             17|\n",
            "|  AGADNX7MZ425|             16|\n",
            "|A2SEK167AI6DZM|             16|\n",
            "|A2CIEGHZ7L1WWR|             15|\n",
            "|A3R9MYRHDWHTVL|             14|\n",
            "|A2KRNK6HVD2DTY|             14|\n",
            "| AV052V61HYMAE|             13|\n",
            "| A41G22PCRD3E8|             12|\n",
            "| A6FPI5CM4W5WB|             11|\n",
            "|A13391AZAFJ67K|             11|\n",
            "| AXYJOIFBWO3K3|             11|\n",
            "|A17MK6PQZUDLXL|             10|\n",
            "|A1AJW9DILZFTQI|             10|\n",
            "|A1BTOP0JZS3YH8|              9|\n",
            "|A1ELL3S7RMZ4YN|              9|\n",
            "+--------------+---------------+\n",
            "only showing top 20 rows\n",
            "\n",
            "+--------------+---------------+-------------+\n",
            "|    ReviewerID|Reviewers_count|ReviewerIndex|\n",
            "+--------------+---------------+-------------+\n",
            "|A2LDP3A4IE9T6T|            206|            0|\n",
            "| AFUVGAUNQVT0S|             40|            1|\n",
            "|A3H61AMBJ177DG|             29|            2|\n",
            "|A3RSUFA7CIL3TS|             23|            3|\n",
            "|A37C9W32E7WE1B|             18|            4|\n",
            "|A37DQO5LU8DXTV|             17|            5|\n",
            "|  AGADNX7MZ425|             16|            6|\n",
            "|A2SEK167AI6DZM|             16|            7|\n",
            "|A2CIEGHZ7L1WWR|             15|            8|\n",
            "|A2KRNK6HVD2DTY|             14|            9|\n",
            "|A3R9MYRHDWHTVL|             14|           10|\n",
            "| AV052V61HYMAE|             13|           11|\n",
            "| A41G22PCRD3E8|             12|           12|\n",
            "| A6FPI5CM4W5WB|             11|           13|\n",
            "| AXYJOIFBWO3K3|             11|           14|\n",
            "|A13391AZAFJ67K|             11|           15|\n",
            "|A17MK6PQZUDLXL|             10|           16|\n",
            "|A1AJW9DILZFTQI|             10|           17|\n",
            "|A1BTOP0JZS3YH8|              9|           18|\n",
            "|A1HKSPTH19LXVZ|              9|           19|\n",
            "+--------------+---------------+-------------+\n",
            "only showing top 20 rows\n",
            "\n"
          ]
        }
      ]
    },
    {
      "cell_type": "code",
      "source": [
        "# Filter the DataFrame reviewers_index to keep only rows where 'ReviewerIndex' is less than 20\n",
        "reviewers_index = reviewers_index.where(F.col('ReviewerIndex') < 20)\n",
        "\n",
        "# Display the filtered DataFrame\n",
        "reviewers_index.show()"
      ],
      "metadata": {
        "colab": {
          "base_uri": "https://localhost:8080/"
        },
        "id": "zbopoRUjOr2r",
        "outputId": "908b8223-3fbd-48b8-e21b-ad1a25e1d3cd"
      },
      "execution_count": 170,
      "outputs": [
        {
          "output_type": "stream",
          "name": "stdout",
          "text": [
            "+--------------+---------------+-------------+\n",
            "|    ReviewerID|Reviewers_count|ReviewerIndex|\n",
            "+--------------+---------------+-------------+\n",
            "|A2LDP3A4IE9T6T|            206|            0|\n",
            "| AFUVGAUNQVT0S|             40|            1|\n",
            "|A3H61AMBJ177DG|             29|            2|\n",
            "|A3RSUFA7CIL3TS|             23|            3|\n",
            "|A37C9W32E7WE1B|             18|            4|\n",
            "|A37DQO5LU8DXTV|             17|            5|\n",
            "|  AGADNX7MZ425|             16|            6|\n",
            "|A2SEK167AI6DZM|             16|            7|\n",
            "|A2CIEGHZ7L1WWR|             15|            8|\n",
            "|A2KRNK6HVD2DTY|             14|            9|\n",
            "|A3R9MYRHDWHTVL|             14|           10|\n",
            "| AV052V61HYMAE|             13|           11|\n",
            "| A41G22PCRD3E8|             12|           12|\n",
            "| A6FPI5CM4W5WB|             11|           13|\n",
            "| AXYJOIFBWO3K3|             11|           14|\n",
            "|A13391AZAFJ67K|             11|           15|\n",
            "|A17MK6PQZUDLXL|             10|           16|\n",
            "|A1AJW9DILZFTQI|             10|           17|\n",
            "|A1BTOP0JZS3YH8|              9|           18|\n",
            "|A1HKSPTH19LXVZ|              9|           19|\n",
            "+--------------+---------------+-------------+\n",
            "\n"
          ]
        }
      ]
    },
    {
      "cell_type": "code",
      "source": [
        "# Join DataFrame reviewers_index with df1_sorted on the 'ReviewerID' column\n",
        "top_20 = reviewers_index.join(df1_sorted, reviewers_index['ReviewerID'] == df1_sorted['ReviewerID'])\n",
        "\n",
        "# Sort the joined DataFrame by 'ReviewerIndex' in ascending order\n",
        "top_20_sorted = top_20.sort('ReviewerIndex', ascending=True)\n",
        "\n",
        "# Display the sorted top 20 DataFrame\n",
        "top_20_sorted.show()"
      ],
      "metadata": {
        "colab": {
          "base_uri": "https://localhost:8080/"
        },
        "id": "xZsPg9S0RFBj",
        "outputId": "c8e14d75-4a87-4dfe-923f-dceadd18da2c"
      },
      "execution_count": 171,
      "outputs": [
        {
          "output_type": "stream",
          "name": "stdout",
          "text": [
            "+--------------+---------------+-------------+------+--------------+----------+----------+--------------------+--------------+\n",
            "|    ReviewerID|Reviewers_count|ReviewerIndex|Rating|    ReviewerID| ProductID| Timestamp|          ReviewText|Timestamp_date|\n",
            "+--------------+---------------+-------------+------+--------------+----------+----------+--------------------+--------------+\n",
            "|A2LDP3A4IE9T6T|            206|            0|     9|A2LDP3A4IE9T6T|B0006GVNOA|1449273600|We have 24 foot o...|    2015-12-05|\n",
            "|A2LDP3A4IE9T6T|            206|            0|     6|A2LDP3A4IE9T6T|B0006GVNOA|1449273600|We have 24 foot o...|    2015-12-05|\n",
            "|A2LDP3A4IE9T6T|            206|            0|     1|A2LDP3A4IE9T6T|B0006GVNOA|1449273600|We have 24 foot o...|    2015-12-05|\n",
            "|A2LDP3A4IE9T6T|            206|            0|     5|A2LDP3A4IE9T6T|B0006GVNOA|1449273600|We have 24 foot o...|    2015-12-05|\n",
            "|A2LDP3A4IE9T6T|            206|            0|     4|A2LDP3A4IE9T6T|B0006GVNOA|1449273600|We have 24 foot o...|    2015-12-05|\n",
            "|A2LDP3A4IE9T6T|            206|            0|     7|A2LDP3A4IE9T6T|B0006GVNOA|1449273600|We have 24 foot o...|    2015-12-05|\n",
            "|A2LDP3A4IE9T6T|            206|            0|     3|A2LDP3A4IE9T6T|B0006GVNOA|1449273600|We have 24 foot o...|    2015-12-05|\n",
            "|A2LDP3A4IE9T6T|            206|            0|     6|A2LDP3A4IE9T6T|B0006GVNOA|1449273600|We have 24 foot o...|    2015-12-05|\n",
            "|A2LDP3A4IE9T6T|            206|            0|     1|A2LDP3A4IE9T6T|B0006GVNOA|1449273600|We have 24 foot o...|    2015-12-05|\n",
            "|A2LDP3A4IE9T6T|            206|            0|     9|A2LDP3A4IE9T6T|B0006GVNOA|1449273600|We have 24 foot o...|    2015-12-05|\n",
            "|A2LDP3A4IE9T6T|            206|            0|     2|A2LDP3A4IE9T6T|B0014CN8Y8|1449273600|We have 24 foot o...|    2015-12-05|\n",
            "|A2LDP3A4IE9T6T|            206|            0|     8|A2LDP3A4IE9T6T|B0014CN8Y8|1449273600|We have 24 foot o...|    2015-12-05|\n",
            "|A2LDP3A4IE9T6T|            206|            0|     9|A2LDP3A4IE9T6T|B0006GVNOA|1449273600|We have 24 foot o...|    2015-12-05|\n",
            "|A2LDP3A4IE9T6T|            206|            0|     5|A2LDP3A4IE9T6T|B0006GVNOA|1449273600|We have 24 foot o...|    2015-12-05|\n",
            "|A2LDP3A4IE9T6T|            206|            0|     1|A2LDP3A4IE9T6T|B0006GVNOA|1449273600|We have 24 foot o...|    2015-12-05|\n",
            "|A2LDP3A4IE9T6T|            206|            0|    10|A2LDP3A4IE9T6T|B0006GVNOA|1449273600|We have 24 foot o...|    2015-12-05|\n",
            "|A2LDP3A4IE9T6T|            206|            0|     6|A2LDP3A4IE9T6T|B0006GVNOA|1449273600|We have 24 foot o...|    2015-12-05|\n",
            "|A2LDP3A4IE9T6T|            206|            0|     2|A2LDP3A4IE9T6T|B0006GVNOA|1449273600|We have 24 foot o...|    2015-12-05|\n",
            "|A2LDP3A4IE9T6T|            206|            0|     1|A2LDP3A4IE9T6T|B0006GVNOA|1449273600|We have 24 foot o...|    2015-12-05|\n",
            "|A2LDP3A4IE9T6T|            206|            0|     5|A2LDP3A4IE9T6T|B0006GVNOA|1449273600|We have 24 foot o...|    2015-12-05|\n",
            "+--------------+---------------+-------------+------+--------------+----------+----------+--------------------+--------------+\n",
            "only showing top 20 rows\n",
            "\n"
          ]
        }
      ]
    },
    {
      "cell_type": "markdown",
      "source": [
        "**Determine whether the top 20 most reviewed products in 2015 are the same as the top 20 products with the highest average rating in 2015**"
      ],
      "metadata": {
        "id": "J746X2fXVSZZ"
      }
    },
    {
      "cell_type": "code",
      "source": [
        "# Group the sorted DataFrame df1_sorted by 'ProductID' and calculate the average rating for each product\n",
        "Prod_rating_20 = df1_sorted.groupBy('ProductID').agg(F.avg('Rating').alias('avg_rating'))\n",
        "\n",
        "# Sort the grouped DataFrame by the average rating in descending order\n",
        "Prod_rating_20 = Prod_rating_20.sort('avg_rating', ascending=False)\n",
        "\n",
        "# Display the resulting DataFrame showing the average rating for each product\n",
        "Prod_rating_20.show()\n"
      ],
      "metadata": {
        "colab": {
          "base_uri": "https://localhost:8080/"
        },
        "id": "y9XP6MeYTw3S",
        "outputId": "8c02963a-b764-41b5-e486-6b4d504d5777"
      },
      "execution_count": 172,
      "outputs": [
        {
          "output_type": "stream",
          "name": "stdout",
          "text": [
            "+----------+----------+\n",
            "| ProductID|avg_rating|\n",
            "+----------+----------+\n",
            "|B00MOCZLP6|      10.0|\n",
            "|B004IMNTYK|      10.0|\n",
            "|B00LOX4DXW|      10.0|\n",
            "|B00Y1TSJF4|      10.0|\n",
            "|B00QZPA8HE|      10.0|\n",
            "|B00C9YRSCS|      10.0|\n",
            "|B00LHRA5JQ|      10.0|\n",
            "|B000LOAV4A|      10.0|\n",
            "|B00MHIXZD2|      10.0|\n",
            "|B00IASX0SI|      10.0|\n",
            "|B00EN8N5ES|      10.0|\n",
            "|B00M3ECJG4|      10.0|\n",
            "|B00VVMLH9E|      10.0|\n",
            "|B006O7BPE8|      10.0|\n",
            "|B00B9DZKE8|      10.0|\n",
            "|B00C6OT7TS|      10.0|\n",
            "|B00KA36KFG|      10.0|\n",
            "|B00XK5UPYS|      10.0|\n",
            "|B0057P2H4K|      10.0|\n",
            "|B00BW6BZV4|      10.0|\n",
            "+----------+----------+\n",
            "only showing top 20 rows\n",
            "\n"
          ]
        }
      ]
    },
    {
      "cell_type": "code",
      "source": [
        "# Add a new column 'RatingIndex' to DataFrame Prod_rating_20 with monotonically increasing IDs\n",
        "Prod_rating_20_index = Prod_rating_20.withColumn(\"RatingIndex\", F.monotonically_increasing_id())\n",
        "\n",
        "# Filter the DataFrame to keep only rows where 'RatingIndex' is less than 20\n",
        "Prod_rating_20_index = Prod_rating_20_index.where(F.col('RatingIndex') < 20)\n",
        "\n",
        "# Display the filtered DataFrame\n",
        "Prod_rating_20_index.show()"
      ],
      "metadata": {
        "colab": {
          "base_uri": "https://localhost:8080/"
        },
        "id": "tw2gTpEhWPZq",
        "outputId": "e67f4245-7093-404d-d71d-318566e071f6"
      },
      "execution_count": 173,
      "outputs": [
        {
          "output_type": "stream",
          "name": "stdout",
          "text": [
            "+----------+----------+-----------+\n",
            "| ProductID|avg_rating|RatingIndex|\n",
            "+----------+----------+-----------+\n",
            "|B00C6OT7TS|      10.0|          0|\n",
            "|B00VVMLH9E|      10.0|          1|\n",
            "|B000LOAV4A|      10.0|          2|\n",
            "|B0057P2H4K|      10.0|          3|\n",
            "|B00KA36KFG|      10.0|          4|\n",
            "|B00M3ECJG4|      10.0|          5|\n",
            "|B006O7BPE8|      10.0|          6|\n",
            "|B00BW6BZV4|      10.0|          7|\n",
            "|B00XK5UPYS|      10.0|          8|\n",
            "|B00C9YRSCS|      10.0|          9|\n",
            "|B00EN8N5ES|      10.0|         10|\n",
            "|B00LOX4DXW|      10.0|         11|\n",
            "|B00Y1TSJF4|      10.0|         12|\n",
            "|B00MHIXZD2|      10.0|         13|\n",
            "|B00QZPA8HE|      10.0|         14|\n",
            "|B004IMNTYK|      10.0|         15|\n",
            "|B00B9DZKE8|      10.0|         16|\n",
            "|B00LHRA5JQ|      10.0|         17|\n",
            "|B00MOCZLP6|      10.0|         18|\n",
            "|B00IASX0SI|      10.0|         19|\n",
            "+----------+----------+-----------+\n",
            "\n"
          ]
        }
      ]
    },
    {
      "cell_type": "code",
      "source": [
        "# Join DataFrames prod_index and Prod_rating_20_index on the 'ProductID' column using an inner join\n",
        "compare_20 = prod_index.join(Prod_rating_20_index, on='ProductID', how='inner')\n",
        "\n",
        "# Display the resulting DataFrame after the join operation\n",
        "compare_20.show()"
      ],
      "metadata": {
        "colab": {
          "base_uri": "https://localhost:8080/"
        },
        "id": "P6Z5KvkWWyNS",
        "outputId": "5f75db0e-f72d-4b0f-cfa2-9dcbec4bad62"
      },
      "execution_count": 175,
      "outputs": [
        {
          "output_type": "stream",
          "name": "stdout",
          "text": [
            "+---------+-------------+---------+----------+-----------+\n",
            "|ProductID|Product_count|ProdIndex|avg_rating|RatingIndex|\n",
            "+---------+-------------+---------+----------+-----------+\n",
            "+---------+-------------+---------+----------+-----------+\n",
            "\n"
          ]
        }
      ]
    },
    {
      "cell_type": "markdown",
      "source": [
        "There are no matching IDs, therefore these sets are mutually exclusive."
      ],
      "metadata": {
        "id": "aVk0q9tAh-Jj"
      }
    },
    {
      "cell_type": "markdown",
      "source": [
        "**Create an RDD of tuples from the DataFrame in Question 4 with only 2 columns: asin and reviewerId, in that order.**"
      ],
      "metadata": {
        "id": "nSM4ZQRziZ0M"
      }
    },
    {
      "cell_type": "code",
      "source": [
        "# Convert the DataFrame df1_sorted to an RDD and select the columns 'ProductID' and 'ReviewerID'\n",
        "asinReviewer_rdd = df1_sorted.select(\"ProductID\", \"ReviewerID\").rdd\n",
        "\n",
        "# Map each row of the RDD to a tuple containing 'ProductID' and 'ReviewerID'\n",
        "asinReviewer_rdd = asinReviewer_rdd.map(lambda row: (row.ProductID, row.ReviewerID))\n",
        "\n",
        "# Display the first 10 elements of the resulting RDD\n",
        "asinReviewer_rdd.take(10)"
      ],
      "metadata": {
        "colab": {
          "base_uri": "https://localhost:8080/"
        },
        "id": "GFrYDDYSijXL",
        "outputId": "5e92c8d9-5825-43f5-ea58-7d69ec8f6117"
      },
      "execution_count": 176,
      "outputs": [
        {
          "output_type": "execute_result",
          "data": {
            "text/plain": [
              "[('B00004YWK2', 'A93QX12JVL8MP'),\n",
              " ('B00004YWK2', 'A22DX9XOT1CUQ5'),\n",
              " ('B00004YWK2', 'A5POJ3A2LVFB1'),\n",
              " ('B00004YWK2', 'A3NFA6HF5LLYT'),\n",
              " ('B00004YWK2', 'AN63ZGJT5LO9B'),\n",
              " ('B00004YWK2', 'A24EAX9PUWHNYA'),\n",
              " ('B00004YWK2', 'A1T7AB4QD7J1JA'),\n",
              " ('B000056J8D', 'A17M9O2F7LGWMF'),\n",
              " ('B000056J8D', 'A17W1BALP211MS'),\n",
              " ('B00005OU6T', 'A1Z2PRLBAE6NTO')]"
            ]
          },
          "metadata": {},
          "execution_count": 176
        }
      ]
    },
    {
      "cell_type": "code",
      "source": [
        "# Count the occurrences of each product in the RDD asinReviewer_rdd\n",
        "product_counts = asinReviewer_rdd.countByKey()\n",
        "\n",
        "# Convert the dictionary of product counts to an RDD of key-value pairs\n",
        "product_counts_rdd = spark.sparkContext.parallelize(product_counts.items())\n",
        "\n",
        "# Reduce the RDD to aggregate counts for each product\n",
        "top_products = product_counts_rdd.reduceByKey(lambda a, b: a + b)\n",
        "\n",
        "# Sort the products by count in descending order and take the top 20\n",
        "top_20_products = top_products.sortBy(lambda x: x[1], ascending=False).take(20)\n",
        "\n",
        "# Print the top 20 products and their respective counts\n",
        "for product_id, count in top_20_products:\n",
        "    print(f\"('{product_id}', {count})\")\n",
        "\n"
      ],
      "metadata": {
        "colab": {
          "base_uri": "https://localhost:8080/"
        },
        "id": "X866elXWjGR7",
        "outputId": "67d68ff3-d009-4da1-9c4f-a4c0f08f608b"
      },
      "execution_count": 179,
      "outputs": [
        {
          "output_type": "stream",
          "name": "stdout",
          "text": [
            "('B000AST3AK', 1487)\n",
            "('B004UB1O9Q', 1471)\n",
            "('B00KJ07SEM', 1415)\n",
            "('B004INUWX0', 715)\n",
            "('B00E37TQV0', 658)\n",
            "('B0045LLC7K', 655)\n",
            "('B0014CN8Y8', 578)\n",
            "('B0042ACZU2', 555)\n",
            "('B00SPYDSFC', 453)\n",
            "('B001B35APA', 443)\n",
            "('B00DT5746Q', 433)\n",
            "('B00NIZ0DV0', 426)\n",
            "('B00INXG9MY', 421)\n",
            "('B000VL060M', 396)\n",
            "('B00AHR3IG4', 387)\n",
            "('B000HE5DNI', 386)\n",
            "('B00E37TR6E', 380)\n",
            "('B0053F80JA', 372)\n",
            "('B00LLM6ZFK', 363)\n",
            "('B0009GVYNW', 362)\n"
          ]
        }
      ]
    },
    {
      "cell_type": "markdown",
      "source": [
        "**Create another RDD of tuples from the DataFrame from Question 4 with the columns reviewerId and asin in that order**"
      ],
      "metadata": {
        "id": "uB0xewicldsr"
      }
    },
    {
      "cell_type": "code",
      "source": [
        "# Convert the DataFrame df1_sorted to an RDD and select the columns 'ReviewerID' and 'ProductID'\n",
        "reviewerAsin_rdd = df1_sorted.select(\"ReviewerID\", \"ProductID\").rdd\n",
        "\n",
        "# Map each row of the RDD to a tuple containing 'ReviewerID' and 'ProductID'\n",
        "reviewerAsin_rdd = reviewerAsin_rdd.map(lambda row: (row.ReviewerID, row.ProductID))\n",
        "\n",
        "# Display the first 10 elements of the resulting RDD\n",
        "reviewerAsin_rdd.take(10)"
      ],
      "metadata": {
        "colab": {
          "base_uri": "https://localhost:8080/"
        },
        "id": "fpKYe4LClijs",
        "outputId": "2eac438d-3e30-447e-f415-a4458608b2fa"
      },
      "execution_count": 180,
      "outputs": [
        {
          "output_type": "execute_result",
          "data": {
            "text/plain": [
              "[('A93QX12JVL8MP', 'B00004YWK2'),\n",
              " ('A22DX9XOT1CUQ5', 'B00004YWK2'),\n",
              " ('A5POJ3A2LVFB1', 'B00004YWK2'),\n",
              " ('A3NFA6HF5LLYT', 'B00004YWK2'),\n",
              " ('AN63ZGJT5LO9B', 'B00004YWK2'),\n",
              " ('A24EAX9PUWHNYA', 'B00004YWK2'),\n",
              " ('A1T7AB4QD7J1JA', 'B00004YWK2'),\n",
              " ('A17M9O2F7LGWMF', 'B000056J8D'),\n",
              " ('A17W1BALP211MS', 'B000056J8D'),\n",
              " ('A1Z2PRLBAE6NTO', 'B00005OU6T')]"
            ]
          },
          "metadata": {},
          "execution_count": 180
        }
      ]
    },
    {
      "cell_type": "code",
      "source": [
        "from operator import add\n",
        "\n",
        "# Map each row of the DataFrame df1_sorted to a tuple with a key of (ReviewerID, ProductID) and a value of 1\n",
        "reviewer_product_pair_rdd = df1_sorted.rdd.map(lambda row: ((row.ReviewerID, row.ProductID), 1))\n",
        "\n",
        "# Reduce the RDD to count the occurrences of each (ReviewerID, ProductID) pair\n",
        "reviewer_product_counts_rdd = reviewer_product_pair_rdd.reduceByKey(add)\n",
        "\n",
        "# Group the RDD by ReviewerID\n",
        "grouped_by_reviewer_rdd = reviewer_product_counts_rdd.map(lambda x: (x[0][0], (x[0][1], x[1]))).groupByKey()\n",
        "\n",
        "# Map the grouped RDD to create a dictionary of products and their counts for each reviewer\n",
        "reviewer_product_dict_rdd = grouped_by_reviewer_rdd.mapValues(lambda x: {product_id: count for product_id, count in x})\n",
        "\n",
        "# Calculate the total number of reviews for each reviewer\n",
        "reviewer_total_reviews_rdd = reviewer_product_dict_rdd.mapValues(lambda x: sum(x.values()))\n",
        "\n",
        "# Take the top 10 reviewers with the most reviews\n",
        "top_10_reviewers = reviewer_total_reviews_rdd.takeOrdered(10, key=lambda x: -x[1])\n",
        "\n",
        "# Collect data for the top 10 reviewers, including their ID, product review dictionary, and total review count\n",
        "top_10_reviewers_data = []\n",
        "for reviewer_id, review_count in top_10_reviewers:\n",
        "    reviewer_data = (reviewer_id, dict(reviewer_product_dict_rdd.filter(lambda x: x[0] == reviewer_id).collect()[0][1]), review_count)\n",
        "    top_10_reviewers_data.append(reviewer_data)\n",
        "\n",
        "# Display the data for the top 10 reviewers\n",
        "top_10_reviewers_data\n"
      ],
      "metadata": {
        "colab": {
          "base_uri": "https://localhost:8080/"
        },
        "id": "LcIHo0FMoecU",
        "outputId": "2ab8d7b1-47e2-47d4-80b0-568f8786a29a"
      },
      "execution_count": 188,
      "outputs": [
        {
          "output_type": "execute_result",
          "data": {
            "text/plain": [
              "[('A2LDP3A4IE9T6T', {'B0014CN8Y8': 2, 'B0006GVNOA': 204}, 206),\n",
              " ('AFUVGAUNQVT0S',\n",
              "  {'B00GTB1WOC': 1,\n",
              "   'B00DZU8UEK': 1,\n",
              "   'B00J7CNC7K': 1,\n",
              "   'B00PM8LHIE': 1,\n",
              "   'B00DM8J11Q': 1,\n",
              "   'B00DM8J2JM': 1,\n",
              "   'B00ECV5J4A': 1,\n",
              "   'B001ICS00G': 1,\n",
              "   'B0050KJOQ6': 1,\n",
              "   'B0156NAK3C': 1,\n",
              "   'B00VTRO2WK': 1,\n",
              "   'B00P9C66PM': 1,\n",
              "   'B00IMFZMIA': 1,\n",
              "   'B00NAP24TW': 1,\n",
              "   'B0053F7UIM': 1,\n",
              "   'B00DZU7RTO': 1,\n",
              "   'B003BIGDEU': 1,\n",
              "   'B00V6VTD9G': 1,\n",
              "   'B00OP8991Y': 1,\n",
              "   'B00LKL0EDQ': 1,\n",
              "   'B00I0WOAI8': 1,\n",
              "   'B003BIGDJ0': 1,\n",
              "   'B001KGX5G4': 1,\n",
              "   'B004XLDKHM': 1,\n",
              "   'B00A8O0DNM': 1,\n",
              "   'B00DM8KQ2Y': 1,\n",
              "   'B00ECV3780': 1,\n",
              "   'B005B9DP4I': 1,\n",
              "   'B00MK261C2': 1,\n",
              "   'B00DM8LECK': 1,\n",
              "   'B00AUDAI04': 1,\n",
              "   'B00C0E1H88': 1,\n",
              "   'B0156NFUV4': 1,\n",
              "   'B00U1KQKA8': 1,\n",
              "   'B00LQDIQ88': 1,\n",
              "   'B00LPDMAGS': 1,\n",
              "   'B0156NJ0OM': 1,\n",
              "   'B00ECV67Y6': 1,\n",
              "   'B00DM8KR1E': 1,\n",
              "   'B005459WBO': 1},\n",
              "  40),\n",
              " ('A3H61AMBJ177DG',\n",
              "  {'B005B48JX0': 1,\n",
              "   'B00E0CWKMK': 1,\n",
              "   'B00DM8KS9U': 1,\n",
              "   'B00MGMXPU2': 1,\n",
              "   'B00MGMWTQS': 1,\n",
              "   'B00LHR05F0': 1,\n",
              "   'B0156NE8ZS': 1,\n",
              "   'B00W4YKCGC': 1,\n",
              "   'B001KZDYHU': 1,\n",
              "   'B00DM8JD4Q': 1,\n",
              "   'B0053Y2SY4': 1,\n",
              "   'B0156NI3BI': 1,\n",
              "   'B00DM8KQ2Y': 1,\n",
              "   'B00OVBMF7K': 1,\n",
              "   'B00DM8J2HE': 1,\n",
              "   'B001DPFP88': 1,\n",
              "   'B00DM8J3VY': 1,\n",
              "   'B00LQDFW26': 1,\n",
              "   'B0053F8B1W': 1,\n",
              "   'B00A8O04TU': 1,\n",
              "   'B00AFSMZLO': 1,\n",
              "   'B00ECV3EZG': 1,\n",
              "   'B005ARC9BG': 1,\n",
              "   'B00DM8LT2U': 1,\n",
              "   'B00A8O05L2': 1,\n",
              "   'B00DRIEOEU': 1,\n",
              "   'B0093RDPI0': 1,\n",
              "   'B00DZU7LJU': 1,\n",
              "   'B00DM8KORQ': 1},\n",
              "  29),\n",
              " ('A3RSUFA7CIL3TS',\n",
              "  {'B00ECV3EZG': 1,\n",
              "   'B00JCY5KC8': 1,\n",
              "   'B00A8O06MK': 1,\n",
              "   'B00LQDGTKU': 1,\n",
              "   'B008YDSTHQ': 1,\n",
              "   'B001B9W1U6': 1,\n",
              "   'B00OMR1IUI': 1,\n",
              "   'B008YDSH6E': 1,\n",
              "   'B00570RQ0A': 1,\n",
              "   'B00DM8K1NS': 1,\n",
              "   'B00A8O06L6': 1,\n",
              "   'B001E0R7T2': 1,\n",
              "   'B0050KJS80': 1,\n",
              "   'B00J13WNAC': 1,\n",
              "   'B005AR76M8': 1,\n",
              "   'B0053F9IGO': 1,\n",
              "   'B00CW0O1EW': 1,\n",
              "   'B00LQDFOCY': 1,\n",
              "   'B00FNX2KVG': 1,\n",
              "   'B00LHR9W6I': 1,\n",
              "   'B00LQDAYZ6': 1,\n",
              "   'B00DZUB99I': 1,\n",
              "   'B001EYEKY8': 1},\n",
              "  23),\n",
              " ('A37C9W32E7WE1B',\n",
              "  {'B008DJLMP2': 1,\n",
              "   'B00E0CWKMK': 1,\n",
              "   'B00DM8J8XC': 1,\n",
              "   'B00ECX0AFQ': 1,\n",
              "   'B00LHR3S7M': 1,\n",
              "   'B00DM8JVR0': 1,\n",
              "   'B0053F8B1W': 1,\n",
              "   'B0050O281A': 1,\n",
              "   'B00LGUG36I': 1,\n",
              "   'B00AOG6CHA': 1,\n",
              "   'B008YDSP20': 1,\n",
              "   'B00DZU8H5C': 1,\n",
              "   'B0156NI3BI': 1,\n",
              "   'B00AUDAEMQ': 1,\n",
              "   'B00JCY5KC8': 1,\n",
              "   'B00MK261C2': 1,\n",
              "   'B008YDSETE': 1,\n",
              "   'B00DM8LJQG': 1},\n",
              "  18),\n",
              " ('A37DQO5LU8DXTV',\n",
              "  {'B00VVJOT1K': 1,\n",
              "   'B00J7DJKIO': 1,\n",
              "   'B00570RQ0A': 1,\n",
              "   'B004XLDE5A': 1,\n",
              "   'B00P9C66PM': 1,\n",
              "   'B01BGMU3TI': 1,\n",
              "   'B006ZZU55Y': 1,\n",
              "   'B003BIGDIQ': 1,\n",
              "   'B00OL1CIOA': 1,\n",
              "   'B001DHLGOS': 1,\n",
              "   'B001DPOAHU': 1,\n",
              "   'B005B9C97M': 1,\n",
              "   'B0056I99WG': 1,\n",
              "   'B00L4G7ZWK': 1,\n",
              "   'B00570QEZI': 1,\n",
              "   'B00J13WNAC': 1,\n",
              "   'B0156NB4BO': 1},\n",
              "  17),\n",
              " ('A2SEK167AI6DZM',\n",
              "  {'B00DM8KD90': 1,\n",
              "   'B00K1QUO5Y': 1,\n",
              "   'B001DPP650': 1,\n",
              "   'B005B9DP4I': 2,\n",
              "   'B005AR7B0U': 1,\n",
              "   'B0053Y3A4G': 1,\n",
              "   'B00DM8JOVS': 1,\n",
              "   'B00E66SE2U': 1,\n",
              "   'B0056I99WG': 1,\n",
              "   'B00DM8JL4I': 1,\n",
              "   'B00DM8L8DK': 1,\n",
              "   'B004H3XWVK': 1,\n",
              "   'B00D8G49D2': 1,\n",
              "   'B00DZU8U36': 1,\n",
              "   'B00DM8JD1O': 1},\n",
              "  16),\n",
              " ('AGADNX7MZ425',\n",
              "  {'B0053F8B1W': 1,\n",
              "   'B00DM8L0AG': 1,\n",
              "   'B005BNM838': 1,\n",
              "   'B0053Y2CNG': 1,\n",
              "   'B0156NAU46': 1,\n",
              "   'B001F8DLH0': 1,\n",
              "   'B00DM8L8DK': 1,\n",
              "   'B00JV1PFRM': 1,\n",
              "   'B0053F7NSO': 1,\n",
              "   'B0156N9ZDI': 1,\n",
              "   'B004XLDZSG': 1,\n",
              "   'B007UD2GJ8': 1,\n",
              "   'B00ECV64AS': 1,\n",
              "   'B005459SYK': 1,\n",
              "   'B005BNN4KY': 1,\n",
              "   'B002YT7YL8': 1},\n",
              "  16),\n",
              " ('A2CIEGHZ7L1WWR',\n",
              "  {'B00CW0O1EW': 1,\n",
              "   'B00K1QUO5Y': 1,\n",
              "   'B00P9C66PM': 1,\n",
              "   'B00JYLU0MY': 1,\n",
              "   'B004XLDHSE': 1,\n",
              "   'B00009W3PA': 1,\n",
              "   'B00MMT798S': 1,\n",
              "   'B0043I7UFI': 1,\n",
              "   'B00DM8J11Q': 1,\n",
              "   'B00DM8LVDM': 1,\n",
              "   'B00I0WOAI8': 2,\n",
              "   'B00DM8LZAQ': 1,\n",
              "   'B00DM8JL4I': 1,\n",
              "   'B0053F80JA': 1},\n",
              "  15),\n",
              " ('A2KRNK6HVD2DTY',\n",
              "  {'B00RY3AOJ8': 1,\n",
              "   'B005BA3ATW': 1,\n",
              "   'B0053F80JA': 1,\n",
              "   'B00DM8L42U': 1,\n",
              "   'B004DAQDCW': 1,\n",
              "   'B005BNMWCA': 1,\n",
              "   'B0156N9ZDI': 1,\n",
              "   'B000LO7FNK': 1,\n",
              "   'B00E0CWKMK': 1,\n",
              "   'B0053Y2T5C': 1,\n",
              "   'B00ECV4BXU': 1,\n",
              "   'B002DUCEMM': 1,\n",
              "   'B00A8O03LE': 1,\n",
              "   'B0156NB4BO': 1},\n",
              "  14)]"
            ]
          },
          "metadata": {},
          "execution_count": 188
        }
      ]
    }
  ]
}