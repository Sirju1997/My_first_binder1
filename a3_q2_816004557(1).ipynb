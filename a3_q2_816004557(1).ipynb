{
  "nbformat": 4,
  "nbformat_minor": 0,
  "metadata": {
    "colab": {
      "provenance": [],
      "authorship_tag": "ABX9TyNjDbVBjvRSsqRfdhFrMCuR",
      "include_colab_link": true
    },
    "kernelspec": {
      "name": "python3",
      "display_name": "Python 3"
    },
    "language_info": {
      "name": "python"
    }
  },
  "cells": [
    {
      "cell_type": "markdown",
      "metadata": {
        "id": "view-in-github",
        "colab_type": "text"
      },
      "source": [
        "<a href=\"https://colab.research.google.com/github/Sirju1997/My_first_binder1/blob/main/a3_q2_816004557(1).ipynb\" target=\"_parent\"><img src=\"https://colab.research.google.com/assets/colab-badge.svg\" alt=\"Open In Colab\"/></a>"
      ]
    },
    {
      "cell_type": "markdown",
      "source": [
        "**What are the implications of loading additional features (that might not be necessary for analysis)\n",
        "into PySpark**"
      ],
      "metadata": {
        "id": "mBA6LLAiypL-"
      }
    },
    {
      "cell_type": "markdown",
      "source": [
        "Loading additional features into PySpark without considering their necessity for analysis can lead to several implications.\n",
        "\n",
        "Firstly, it can increase resource consumption and slow down job execution due to added computational overhead. This complexity in data processing can make pipelines harder to understand and maintain.\n",
        "\n",
        "Additionally, including unnecessary features in machine learning models raises the risk of overfitting and decreases generalization performance.\n",
        "\n",
        "Lastly, debugging and troubleshooting become more challenging with unnecessary features, emphasizing the importance of carefully considering which features are truly needed for analysis to optimize performance and maintain data integrity.\n"
      ],
      "metadata": {
        "id": "a8PYvaRTyswG"
      }
    },
    {
      "cell_type": "markdown",
      "source": [
        "**Create a sql context from PySpark SQLContext**"
      ],
      "metadata": {
        "id": "n5P1ydu2y0BP"
      }
    },
    {
      "cell_type": "code",
      "execution_count": 25,
      "metadata": {
        "colab": {
          "base_uri": "https://localhost:8080/"
        },
        "id": "0x58ADg_yZtZ",
        "outputId": "645faf1d-f0cc-43a3-ba80-9b89535b410f"
      },
      "outputs": [
        {
          "output_type": "stream",
          "name": "stdout",
          "text": [
            "\r0% [Working]\r            \rHit:1 https://cloud.r-project.org/bin/linux/ubuntu jammy-cran40/ InRelease\n",
            "\r0% [Connecting to archive.ubuntu.com] [Connecting to security.ubuntu.com (185.125.190.36)] [Connecti\r                                                                                                    \rHit:2 https://developer.download.nvidia.com/compute/cuda/repos/ubuntu2204/x86_64  InRelease\n",
            "Hit:3 http://archive.ubuntu.com/ubuntu jammy InRelease\n",
            "Hit:4 http://archive.ubuntu.com/ubuntu jammy-updates InRelease\n",
            "Hit:5 http://security.ubuntu.com/ubuntu jammy-security InRelease\n",
            "Hit:6 http://archive.ubuntu.com/ubuntu jammy-backports InRelease\n",
            "Hit:7 https://ppa.launchpadcontent.net/c2d4u.team/c2d4u4.0+/ubuntu jammy InRelease\n",
            "Hit:8 https://ppa.launchpadcontent.net/deadsnakes/ppa/ubuntu jammy InRelease\n",
            "Hit:9 https://ppa.launchpadcontent.net/graphics-drivers/ppa/ubuntu jammy InRelease\n",
            "Hit:10 https://ppa.launchpadcontent.net/ubuntugis/ppa/ubuntu jammy InRelease\n",
            "Reading package lists... Done\n",
            "a3_amazon.csv  spark-3.1.1-bin-hadoop3.2      spark-3.1.1-bin-hadoop3.2.tgz.1\n",
            "sample_data    spark-3.1.1-bin-hadoop3.2.tgz\n"
          ]
        }
      ],
      "source": [
        "!apt-get update # Update apt-get repository.\n",
        "!apt-get install openjdk-8-jdk-headless -qq > /dev/null # Install Java.\n",
        "!wget -q http://archive.apache.org/dist/spark/spark-3.1.1/spark-3.1.1-bin-hadoop3.2.tgz # Download Apache Sparks.\n",
        "!tar xf spark-3.1.1-bin-hadoop3.2.tgz # Unzip the tgz file.\n",
        "!pip install -q findspark # Install findspark. Adds PySpark to the System path during runtime.\n",
        "\n",
        "# Set environment variables\n",
        "import os\n",
        "os.environ[\"JAVA_HOME\"] = \"/usr/lib/jvm/java-8-openjdk-amd64\"\n",
        "os.environ[\"SPARK_HOME\"] = \"/content/spark-3.1.1-bin-hadoop3.2\"\n",
        "\n",
        "!ls\n",
        "\n",
        "# Initialize findspark\n",
        "import findspark\n",
        "findspark.init()"
      ]
    },
    {
      "cell_type": "code",
      "source": [
        "# Create a PySpark session\n",
        "from pyspark.sql import SparkSession\n",
        "spark = SparkSession.builder.master(\"local[*]\").getOrCreate()\n",
        "spark"
      ],
      "metadata": {
        "colab": {
          "base_uri": "https://localhost:8080/",
          "height": 219
        },
        "id": "nMjI9HnpzB5W",
        "outputId": "bb7781e9-12c8-4444-c548-4ff19a280eae"
      },
      "execution_count": 26,
      "outputs": [
        {
          "output_type": "execute_result",
          "data": {
            "text/plain": [
              "<pyspark.sql.session.SparkSession at 0x7862301122f0>"
            ],
            "text/html": [
              "\n",
              "            <div>\n",
              "                <p><b>SparkSession - in-memory</b></p>\n",
              "                \n",
              "        <div>\n",
              "            <p><b>SparkContext</b></p>\n",
              "\n",
              "            <p><a href=\"http://46d19eac863a:4040\">Spark UI</a></p>\n",
              "\n",
              "            <dl>\n",
              "              <dt>Version</dt>\n",
              "                <dd><code>v3.1.1</code></dd>\n",
              "              <dt>Master</dt>\n",
              "                <dd><code>local[*]</code></dd>\n",
              "              <dt>AppName</dt>\n",
              "                <dd><code>pyspark-shell</code></dd>\n",
              "            </dl>\n",
              "        </div>\n",
              "        \n",
              "            </div>\n",
              "        "
            ]
          },
          "metadata": {},
          "execution_count": 26
        }
      ]
    },
    {
      "cell_type": "markdown",
      "source": [
        "**Load the Amazon Review Dataset into a PySpark RDD, then Convert the RDD to a PySpark DataFrame**"
      ],
      "metadata": {
        "id": "reGRIgKxz3SH"
      }
    },
    {
      "cell_type": "code",
      "source": [
        "df = spark.read.csv(r\"/content/a3_amazon.csv\", header = True, sep=',',inferSchema=False).toDF('Rating','ReviewerID','ProductID','Timestamp','ReviewText')"
      ],
      "metadata": {
        "id": "Pc7wDetDz110"
      },
      "execution_count": 78,
      "outputs": []
    },
    {
      "cell_type": "code",
      "source": [
        "df.show()"
      ],
      "metadata": {
        "colab": {
          "base_uri": "https://localhost:8080/"
        },
        "id": "yJQjRXbT0Eu6",
        "outputId": "209024ad-fdf5-4961-ec7a-1994b421a8bd"
      },
      "execution_count": 79,
      "outputs": [
        {
          "output_type": "stream",
          "name": "stdout",
          "text": [
            "+------+--------------+----------+----------+--------------------+\n",
            "|Rating|    ReviewerID| ProductID| Timestamp|          ReviewText|\n",
            "+------+--------------+----------+----------+--------------------+\n",
            "|     1|A3SK6VNBQDNBJE|1118461304|1383264000|I have enjoyed Dr...|\n",
            "|     3|A3SOFHUR27FO3K|1118461304|1381363200|Alan Gregerman be...|\n",
            "|     1|A1HOG1PYCAE157|1118461304|1381276800|Alan Gregerman is...|\n",
            "|     6|A26JGAM6GZMM4V|1118461304|1378512000|As I began to rea...|\n",
            "|     5|A17K8WANMYHTX2|1118461304|1399766400|I teach a class o...|\n",
            "|     3|A13IW3A6W43U0G|1118461304|1399593600|I so appreciated ...|\n",
            "|     6|A1ECEGG1MP7J8J|1118461304|1399420800|As with Surrounde...|\n",
            "|     1|A2D5X9G9S3A7RN|1118461304|1399161600|Alan Gregermans b...|\n",
            "|     6| AP2F86JFRQ205|1118461304|1398988800|I am a believer i...|\n",
            "|    10|A3VF3A5A3O04E1|1118461304|1397174400|A compelling book...|\n",
            "|     7|A14DW5UMQ1M96O|1118461304|1395273600|Alan Gregerman's ...|\n",
            "|     4|A2V7UVKOFG57IW|1118461304|1393459200|So refreshing to ...|\n",
            "|     9|A2BM5NTLX7CES1|1118461304|1391040000|In this book, the...|\n",
            "|     2|A1EQ5D5JRSW23K|1118461304|1390003200|What a great titl...|\n",
            "|     9|A1R2JUOGIYH6HO|1118461304|1389916800|The title of this...|\n",
            "|     8|A3JRW716H3AX14|1118461304|1389830400|This is a well wr...|\n",
            "|     8|A3KGLXW3EYDTUH|1118461304|1389744000|Common sense and ...|\n",
            "|     4|A1B70ZEWQ6UH1A|1118461304|1389398400|The stated premis...|\n",
            "|    10|A2I5QME4S7CLFI|1118461304|1389139200|I usually find bu...|\n",
            "|     6|A33HIV8RXRDM88|1118461304|1388966400|Seriously! We alw...|\n",
            "+------+--------------+----------+----------+--------------------+\n",
            "only showing top 20 rows\n",
            "\n"
          ]
        }
      ]
    },
    {
      "cell_type": "code",
      "source": [
        "df.printSchema()"
      ],
      "metadata": {
        "colab": {
          "base_uri": "https://localhost:8080/"
        },
        "id": "k8wge8o82FS3",
        "outputId": "e5e300f9-4ff2-4a5b-fdf4-46b37d8a407b"
      },
      "execution_count": 80,
      "outputs": [
        {
          "output_type": "stream",
          "name": "stdout",
          "text": [
            "root\n",
            " |-- Rating: string (nullable = true)\n",
            " |-- ReviewerID: string (nullable = true)\n",
            " |-- ProductID: string (nullable = true)\n",
            " |-- Timestamp: string (nullable = true)\n",
            " |-- ReviewText: string (nullable = true)\n",
            "\n"
          ]
        }
      ]
    },
    {
      "cell_type": "code",
      "source": [
        "# prompt: Convert the column Timestamp from the df dataframe which consists of string epoch data to date in the format \"yyyy-mmm-dd\" in a new column of the dataframe df 'Timestamp_date'\n",
        "\n",
        "from pyspark.sql import functions as F\n",
        "\n",
        "# Convert the Timestamp column to date format\n",
        "df = df.withColumn('Timestamp_date', F.to_date(F.from_unixtime(df.Timestamp)))\n",
        "\n",
        "# Show the DataFrame with the new column\n",
        "df.show()\n"
      ],
      "metadata": {
        "colab": {
          "base_uri": "https://localhost:8080/"
        },
        "id": "LY4ljVTM8qFN",
        "outputId": "fb5a88bf-bfed-484d-e024-c974bb3cbcf0"
      },
      "execution_count": 82,
      "outputs": [
        {
          "output_type": "stream",
          "name": "stdout",
          "text": [
            "+------+--------------+----------+----------+--------------------+--------------+\n",
            "|Rating|    ReviewerID| ProductID| Timestamp|          ReviewText|Timestamp_date|\n",
            "+------+--------------+----------+----------+--------------------+--------------+\n",
            "|     1|A3SK6VNBQDNBJE|1118461304|1383264000|I have enjoyed Dr...|    2013-11-01|\n",
            "|     3|A3SOFHUR27FO3K|1118461304|1381363200|Alan Gregerman be...|    2013-10-10|\n",
            "|     1|A1HOG1PYCAE157|1118461304|1381276800|Alan Gregerman is...|    2013-10-09|\n",
            "|     6|A26JGAM6GZMM4V|1118461304|1378512000|As I began to rea...|    2013-09-07|\n",
            "|     5|A17K8WANMYHTX2|1118461304|1399766400|I teach a class o...|    2014-05-11|\n",
            "|     3|A13IW3A6W43U0G|1118461304|1399593600|I so appreciated ...|    2014-05-09|\n",
            "|     6|A1ECEGG1MP7J8J|1118461304|1399420800|As with Surrounde...|    2014-05-07|\n",
            "|     1|A2D5X9G9S3A7RN|1118461304|1399161600|Alan Gregermans b...|    2014-05-04|\n",
            "|     6| AP2F86JFRQ205|1118461304|1398988800|I am a believer i...|    2014-05-02|\n",
            "|    10|A3VF3A5A3O04E1|1118461304|1397174400|A compelling book...|    2014-04-11|\n",
            "|     7|A14DW5UMQ1M96O|1118461304|1395273600|Alan Gregerman's ...|    2014-03-20|\n",
            "|     4|A2V7UVKOFG57IW|1118461304|1393459200|So refreshing to ...|    2014-02-27|\n",
            "|     9|A2BM5NTLX7CES1|1118461304|1391040000|In this book, the...|    2014-01-30|\n",
            "|     2|A1EQ5D5JRSW23K|1118461304|1390003200|What a great titl...|    2014-01-18|\n",
            "|     9|A1R2JUOGIYH6HO|1118461304|1389916800|The title of this...|    2014-01-17|\n",
            "|     8|A3JRW716H3AX14|1118461304|1389830400|This is a well wr...|    2014-01-16|\n",
            "|     8|A3KGLXW3EYDTUH|1118461304|1389744000|Common sense and ...|    2014-01-15|\n",
            "|     4|A1B70ZEWQ6UH1A|1118461304|1389398400|The stated premis...|    2014-01-11|\n",
            "|    10|A2I5QME4S7CLFI|1118461304|1389139200|I usually find bu...|    2014-01-08|\n",
            "|     6|A33HIV8RXRDM88|1118461304|1388966400|Seriously! We alw...|    2014-01-06|\n",
            "+------+--------------+----------+----------+--------------------+--------------+\n",
            "only showing top 20 rows\n",
            "\n"
          ]
        }
      ]
    },
    {
      "cell_type": "code",
      "source": [
        "df.printSchema()\n"
      ],
      "metadata": {
        "colab": {
          "base_uri": "https://localhost:8080/"
        },
        "id": "b8BWV2Jt2QEm",
        "outputId": "0c3c8c82-6b3a-4d71-a5a0-59b8ca20414c"
      },
      "execution_count": 83,
      "outputs": [
        {
          "output_type": "stream",
          "name": "stdout",
          "text": [
            "root\n",
            " |-- Rating: string (nullable = true)\n",
            " |-- ReviewerID: string (nullable = true)\n",
            " |-- ProductID: string (nullable = true)\n",
            " |-- Timestamp: string (nullable = true)\n",
            " |-- ReviewText: string (nullable = true)\n",
            " |-- Timestamp_date: date (nullable = true)\n",
            "\n"
          ]
        }
      ]
    },
    {
      "cell_type": "code",
      "source": [
        "df.show()"
      ],
      "metadata": {
        "colab": {
          "base_uri": "https://localhost:8080/"
        },
        "id": "TlYSN_rs2S24",
        "outputId": "f3125e19-11ec-4a40-c91c-cd63ea47cee0"
      },
      "execution_count": 52,
      "outputs": [
        {
          "output_type": "stream",
          "name": "stdout",
          "text": [
            "+------+--------------+----------+----------+--------------------+\n",
            "|Rating|    ReviewerID| ProductID| Timestamp|          ReviewText|\n",
            "+------+--------------+----------+----------+--------------------+\n",
            "|     1|A3SK6VNBQDNBJE|1118461304|1383264000|I have enjoyed Dr...|\n",
            "|     3|A3SOFHUR27FO3K|1118461304|1381363200|Alan Gregerman be...|\n",
            "|     1|A1HOG1PYCAE157|1118461304|1381276800|Alan Gregerman is...|\n",
            "|     6|A26JGAM6GZMM4V|1118461304|1378512000|As I began to rea...|\n",
            "|     5|A17K8WANMYHTX2|1118461304|1399766400|I teach a class o...|\n",
            "|     3|A13IW3A6W43U0G|1118461304|1399593600|I so appreciated ...|\n",
            "|     6|A1ECEGG1MP7J8J|1118461304|1399420800|As with Surrounde...|\n",
            "|     1|A2D5X9G9S3A7RN|1118461304|1399161600|Alan Gregermans b...|\n",
            "|     6| AP2F86JFRQ205|1118461304|1398988800|I am a believer i...|\n",
            "|    10|A3VF3A5A3O04E1|1118461304|1397174400|A compelling book...|\n",
            "|     7|A14DW5UMQ1M96O|1118461304|1395273600|Alan Gregerman's ...|\n",
            "|     4|A2V7UVKOFG57IW|1118461304|1393459200|So refreshing to ...|\n",
            "|     9|A2BM5NTLX7CES1|1118461304|1391040000|In this book, the...|\n",
            "|     2|A1EQ5D5JRSW23K|1118461304|1390003200|What a great titl...|\n",
            "|     9|A1R2JUOGIYH6HO|1118461304|1389916800|The title of this...|\n",
            "|     8|A3JRW716H3AX14|1118461304|1389830400|This is a well wr...|\n",
            "|     8|A3KGLXW3EYDTUH|1118461304|1389744000|Common sense and ...|\n",
            "|     4|A1B70ZEWQ6UH1A|1118461304|1389398400|The stated premis...|\n",
            "|    10|A2I5QME4S7CLFI|1118461304|1389139200|I usually find bu...|\n",
            "|     6|A33HIV8RXRDM88|1118461304|1388966400|Seriously! We alw...|\n",
            "+------+--------------+----------+----------+--------------------+\n",
            "only showing top 20 rows\n",
            "\n"
          ]
        }
      ]
    },
    {
      "cell_type": "code",
      "source": [
        "df1 = df.filter(F.year('Timestamp_date')==F.lit(2015))"
      ],
      "metadata": {
        "id": "7aYuKQ77_uh3"
      },
      "execution_count": 86,
      "outputs": []
    },
    {
      "cell_type": "code",
      "source": [
        "df1_sorted = df1.sort(\"Rating\",ascending = False)\n",
        "df1_sorted.show(20)\n"
      ],
      "metadata": {
        "colab": {
          "base_uri": "https://localhost:8080/"
        },
        "id": "tnYKV9p4A0NN",
        "outputId": "569dbeb9-678d-4589-8fd6-c62aeed48771"
      },
      "execution_count": 90,
      "outputs": [
        {
          "output_type": "stream",
          "name": "stdout",
          "text": [
            "+------+--------------+----------+----------+--------------------+--------------+\n",
            "|Rating|    ReviewerID| ProductID| Timestamp|          ReviewText|Timestamp_date|\n",
            "+------+--------------+----------+----------+--------------------+--------------+\n",
            "|     9|A2169CG0W2XTLK|B00GOHJR7K|1436054400|Love it, fast del...|    2015-07-05|\n",
            "|     9|A34QDBXNXHMPT8|B00GS9ICU2|1427587200|Fit my dryer perf...|    2015-03-29|\n",
            "|     9|A1C85REV513NSV|B00GRY0JTU|1424995200|It works well, ex...|    2015-02-27|\n",
            "|     9|A2OKTV6UCQF3QA|B00GS3G0B6|1439510400|               great|    2015-08-14|\n",
            "|     9|A3AK07JRVE4FM6|B00GOFPA46|1423612800|Works great and m...|    2015-02-11|\n",
            "|     9|A3FC1URWMXN0DS|B00GS3G0B6|1429142400| Great.  As expected|    2015-04-16|\n",
            "|     9|A13NKGBGJCAYFU|B00GOFSTGM|1445385600|Better then I tho...|    2015-10-21|\n",
            "|     9|A3QD0MJQ70KFDS|B00GS3G0B6|1426291200|Perfect fit for m...|    2015-03-14|\n",
            "|     9|A2X7Z8ZF5PE3D0|B00GOFSTGM|1423526400|The hood is great...|    2015-02-10|\n",
            "|     9|A36IGBPJOZ6ICT|B00GS9GJ3O|1431561600|Perfect fit, easy...|    2015-05-14|\n",
            "|     9|A18Y080O8HYB0J|B00GOFUISY|1443225600|Very hard to inst...|    2015-09-26|\n",
            "|     9|A3C5QMGXJZ18LI|B00GS9ICU2|1442707200|Don't waste your ...|    2015-09-20|\n",
            "|     9|A2Z1RACFCLACCI|B00GNM8V0A|1428537600|Quality looks goo...|    2015-04-09|\n",
            "|     9|A3ONHT4NL5WPY6|B00GS9ICU2|1442448000|Great product. Fa...|    2015-09-17|\n",
            "|     9|A11NSQX11PCBP8|B00GS9ICU2|1428969600|Perfect item, gre...|    2015-04-14|\n",
            "|     9|A2EF0XFPSBMSAR|B00GS9ICU2|1437782400|              Great!|    2015-07-25|\n",
            "|     9|A3J6W4671EMGGN|B00GOFSTGM|1441065600|Looks nice. Howev...|    2015-09-01|\n",
            "|     9|A3TTFM2W1ZP7XW|B00GS9ICU2|1437696000|arrived on time j...|    2015-07-24|\n",
            "|     9|A1TXVIZUUYI9MG|B00GNM8V0A|1431043200|Took under 15 min...|    2015-05-08|\n",
            "|     9|A3INL4F2A9R0JT|B00GS9ICU2|1431993600|Didn't work berry...|    2015-05-19|\n",
            "+------+--------------+----------+----------+--------------------+--------------+\n",
            "only showing top 20 rows\n",
            "\n"
          ]
        }
      ]
    },
    {
      "cell_type": "markdown",
      "source": [
        "**Show the top 20 reviewers and the products they\n",
        "reviewed in 2015**"
      ],
      "metadata": {
        "id": "RdDZ2c-cBcp-"
      }
    },
    {
      "cell_type": "code",
      "source": [
        "reviewers = df1_sorted.groupBy('ReviewerID').agg(F.count(\"*\").alias('Reviewers_count'))\n",
        "\n",
        "reviewers = reviewers.sort('Reviewers_count', ascending = False)\n",
        "\n",
        "reviewers.show()\n",
        "\n",
        "\n",
        "\n"
      ],
      "metadata": {
        "colab": {
          "base_uri": "https://localhost:8080/"
        },
        "id": "MXOz4pC6Bhx2",
        "outputId": "817cdb09-f525-4319-9f87-261bdc7b9dde"
      },
      "execution_count": 93,
      "outputs": [
        {
          "output_type": "stream",
          "name": "stdout",
          "text": [
            "+--------------+---------------+\n",
            "|    ReviewerID|Reviewers_count|\n",
            "+--------------+---------------+\n",
            "|A2LDP3A4IE9T6T|            206|\n",
            "| AFUVGAUNQVT0S|             40|\n",
            "|A3H61AMBJ177DG|             29|\n",
            "|A3RSUFA7CIL3TS|             23|\n",
            "|A37C9W32E7WE1B|             18|\n",
            "|A37DQO5LU8DXTV|             17|\n",
            "|  AGADNX7MZ425|             16|\n",
            "|A2SEK167AI6DZM|             16|\n",
            "|A2CIEGHZ7L1WWR|             15|\n",
            "|A2KRNK6HVD2DTY|             14|\n",
            "|A3R9MYRHDWHTVL|             14|\n",
            "| AV052V61HYMAE|             13|\n",
            "| A41G22PCRD3E8|             12|\n",
            "| A6FPI5CM4W5WB|             11|\n",
            "|A13391AZAFJ67K|             11|\n",
            "| AXYJOIFBWO3K3|             11|\n",
            "|A17MK6PQZUDLXL|             10|\n",
            "|A1AJW9DILZFTQI|             10|\n",
            "|A1BTOP0JZS3YH8|              9|\n",
            "|A1HKSPTH19LXVZ|              9|\n",
            "+--------------+---------------+\n",
            "only showing top 20 rows\n",
            "\n"
          ]
        }
      ]
    },
    {
      "cell_type": "code",
      "source": [],
      "metadata": {
        "id": "zbopoRUjOr2r"
      },
      "execution_count": null,
      "outputs": []
    }
  ]
}