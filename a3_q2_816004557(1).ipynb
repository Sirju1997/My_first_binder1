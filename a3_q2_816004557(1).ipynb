{
  "nbformat": 4,
  "nbformat_minor": 0,
  "metadata": {
    "colab": {
      "provenance": [],
      "authorship_tag": "ABX9TyPDwAjczhiyvFENhrnhXp9a",
      "include_colab_link": true
    },
    "kernelspec": {
      "name": "python3",
      "display_name": "Python 3"
    },
    "language_info": {
      "name": "python"
    }
  },
  "cells": [
    {
      "cell_type": "markdown",
      "metadata": {
        "id": "view-in-github",
        "colab_type": "text"
      },
      "source": [
        "<a href=\"https://colab.research.google.com/github/Sirju1997/My_first_binder1/blob/main/a3_q2_816004557(1).ipynb\" target=\"_parent\"><img src=\"https://colab.research.google.com/assets/colab-badge.svg\" alt=\"Open In Colab\"/></a>"
      ]
    },
    {
      "cell_type": "markdown",
      "source": [
        "**What are the implications of loading additional features (that might not be necessary for analysis)\n",
        "into PySpark**"
      ],
      "metadata": {
        "id": "mBA6LLAiypL-"
      }
    },
    {
      "cell_type": "markdown",
      "source": [
        "Loading additional features into PySpark without considering their necessity for analysis can lead to several implications.\n",
        "\n",
        "Firstly, it can increase resource consumption and slow down job execution due to added computational overhead. This complexity in data processing can make pipelines harder to understand and maintain.\n",
        "\n",
        "Additionally, including unnecessary features in machine learning models raises the risk of overfitting and decreases generalization performance.\n",
        "\n",
        "Lastly, debugging and troubleshooting become more challenging with unnecessary features, emphasizing the importance of carefully considering which features are truly needed for analysis to optimize performance and maintain data integrity.\n"
      ],
      "metadata": {
        "id": "a8PYvaRTyswG"
      }
    },
    {
      "cell_type": "markdown",
      "source": [
        "**Create a sql context from PySpark SQLContext**"
      ],
      "metadata": {
        "id": "n5P1ydu2y0BP"
      }
    },
    {
      "cell_type": "code",
      "execution_count": 25,
      "metadata": {
        "colab": {
          "base_uri": "https://localhost:8080/"
        },
        "id": "0x58ADg_yZtZ",
        "outputId": "645faf1d-f0cc-43a3-ba80-9b89535b410f"
      },
      "outputs": [
        {
          "output_type": "stream",
          "name": "stdout",
          "text": [
            "\r0% [Working]\r            \rHit:1 https://cloud.r-project.org/bin/linux/ubuntu jammy-cran40/ InRelease\n",
            "\r0% [Connecting to archive.ubuntu.com] [Connecting to security.ubuntu.com (185.125.190.36)] [Connecti\r                                                                                                    \rHit:2 https://developer.download.nvidia.com/compute/cuda/repos/ubuntu2204/x86_64  InRelease\n",
            "Hit:3 http://archive.ubuntu.com/ubuntu jammy InRelease\n",
            "Hit:4 http://archive.ubuntu.com/ubuntu jammy-updates InRelease\n",
            "Hit:5 http://security.ubuntu.com/ubuntu jammy-security InRelease\n",
            "Hit:6 http://archive.ubuntu.com/ubuntu jammy-backports InRelease\n",
            "Hit:7 https://ppa.launchpadcontent.net/c2d4u.team/c2d4u4.0+/ubuntu jammy InRelease\n",
            "Hit:8 https://ppa.launchpadcontent.net/deadsnakes/ppa/ubuntu jammy InRelease\n",
            "Hit:9 https://ppa.launchpadcontent.net/graphics-drivers/ppa/ubuntu jammy InRelease\n",
            "Hit:10 https://ppa.launchpadcontent.net/ubuntugis/ppa/ubuntu jammy InRelease\n",
            "Reading package lists... Done\n",
            "a3_amazon.csv  spark-3.1.1-bin-hadoop3.2      spark-3.1.1-bin-hadoop3.2.tgz.1\n",
            "sample_data    spark-3.1.1-bin-hadoop3.2.tgz\n"
          ]
        }
      ],
      "source": [
        "!apt-get update # Update apt-get repository.\n",
        "!apt-get install openjdk-8-jdk-headless -qq > /dev/null # Install Java.\n",
        "!wget -q http://archive.apache.org/dist/spark/spark-3.1.1/spark-3.1.1-bin-hadoop3.2.tgz # Download Apache Sparks.\n",
        "!tar xf spark-3.1.1-bin-hadoop3.2.tgz # Unzip the tgz file.\n",
        "!pip install -q findspark # Install findspark. Adds PySpark to the System path during runtime.\n",
        "\n",
        "# Set environment variables\n",
        "import os\n",
        "os.environ[\"JAVA_HOME\"] = \"/usr/lib/jvm/java-8-openjdk-amd64\"\n",
        "os.environ[\"SPARK_HOME\"] = \"/content/spark-3.1.1-bin-hadoop3.2\"\n",
        "\n",
        "!ls\n",
        "\n",
        "# Initialize findspark\n",
        "import findspark\n",
        "findspark.init()"
      ]
    },
    {
      "cell_type": "code",
      "source": [
        "# Create a PySpark session\n",
        "from pyspark.sql import SparkSession\n",
        "spark = SparkSession.builder.master(\"local[*]\").getOrCreate()\n",
        "spark"
      ],
      "metadata": {
        "colab": {
          "base_uri": "https://localhost:8080/",
          "height": 219
        },
        "id": "nMjI9HnpzB5W",
        "outputId": "bb7781e9-12c8-4444-c548-4ff19a280eae"
      },
      "execution_count": 26,
      "outputs": [
        {
          "output_type": "execute_result",
          "data": {
            "text/plain": [
              "<pyspark.sql.session.SparkSession at 0x7862301122f0>"
            ],
            "text/html": [
              "\n",
              "            <div>\n",
              "                <p><b>SparkSession - in-memory</b></p>\n",
              "                \n",
              "        <div>\n",
              "            <p><b>SparkContext</b></p>\n",
              "\n",
              "            <p><a href=\"http://46d19eac863a:4040\">Spark UI</a></p>\n",
              "\n",
              "            <dl>\n",
              "              <dt>Version</dt>\n",
              "                <dd><code>v3.1.1</code></dd>\n",
              "              <dt>Master</dt>\n",
              "                <dd><code>local[*]</code></dd>\n",
              "              <dt>AppName</dt>\n",
              "                <dd><code>pyspark-shell</code></dd>\n",
              "            </dl>\n",
              "        </div>\n",
              "        \n",
              "            </div>\n",
              "        "
            ]
          },
          "metadata": {},
          "execution_count": 26
        }
      ]
    },
    {
      "cell_type": "markdown",
      "source": [
        "**Load the Amazon Review Dataset into a PySpark RDD, then Convert the RDD to a PySpark DataFrame**"
      ],
      "metadata": {
        "id": "reGRIgKxz3SH"
      }
    },
    {
      "cell_type": "code",
      "source": [
        "df = spark.read.csv(r\"/content/a3_amazon.csv\", header = True, sep=',',inferSchema=False).toDF('Rating','ReviewerID','ProductID','Timestamp','ReviewText')"
      ],
      "metadata": {
        "id": "Pc7wDetDz110"
      },
      "execution_count": 78,
      "outputs": []
    },
    {
      "cell_type": "code",
      "source": [
        "df.show()"
      ],
      "metadata": {
        "colab": {
          "base_uri": "https://localhost:8080/"
        },
        "id": "yJQjRXbT0Eu6",
        "outputId": "209024ad-fdf5-4961-ec7a-1994b421a8bd"
      },
      "execution_count": 79,
      "outputs": [
        {
          "output_type": "stream",
          "name": "stdout",
          "text": [
            "+------+--------------+----------+----------+--------------------+\n",
            "|Rating|    ReviewerID| ProductID| Timestamp|          ReviewText|\n",
            "+------+--------------+----------+----------+--------------------+\n",
            "|     1|A3SK6VNBQDNBJE|1118461304|1383264000|I have enjoyed Dr...|\n",
            "|     3|A3SOFHUR27FO3K|1118461304|1381363200|Alan Gregerman be...|\n",
            "|     1|A1HOG1PYCAE157|1118461304|1381276800|Alan Gregerman is...|\n",
            "|     6|A26JGAM6GZMM4V|1118461304|1378512000|As I began to rea...|\n",
            "|     5|A17K8WANMYHTX2|1118461304|1399766400|I teach a class o...|\n",
            "|     3|A13IW3A6W43U0G|1118461304|1399593600|I so appreciated ...|\n",
            "|     6|A1ECEGG1MP7J8J|1118461304|1399420800|As with Surrounde...|\n",
            "|     1|A2D5X9G9S3A7RN|1118461304|1399161600|Alan Gregermans b...|\n",
            "|     6| AP2F86JFRQ205|1118461304|1398988800|I am a believer i...|\n",
            "|    10|A3VF3A5A3O04E1|1118461304|1397174400|A compelling book...|\n",
            "|     7|A14DW5UMQ1M96O|1118461304|1395273600|Alan Gregerman's ...|\n",
            "|     4|A2V7UVKOFG57IW|1118461304|1393459200|So refreshing to ...|\n",
            "|     9|A2BM5NTLX7CES1|1118461304|1391040000|In this book, the...|\n",
            "|     2|A1EQ5D5JRSW23K|1118461304|1390003200|What a great titl...|\n",
            "|     9|A1R2JUOGIYH6HO|1118461304|1389916800|The title of this...|\n",
            "|     8|A3JRW716H3AX14|1118461304|1389830400|This is a well wr...|\n",
            "|     8|A3KGLXW3EYDTUH|1118461304|1389744000|Common sense and ...|\n",
            "|     4|A1B70ZEWQ6UH1A|1118461304|1389398400|The stated premis...|\n",
            "|    10|A2I5QME4S7CLFI|1118461304|1389139200|I usually find bu...|\n",
            "|     6|A33HIV8RXRDM88|1118461304|1388966400|Seriously! We alw...|\n",
            "+------+--------------+----------+----------+--------------------+\n",
            "only showing top 20 rows\n",
            "\n"
          ]
        }
      ]
    },
    {
      "cell_type": "code",
      "source": [
        "df.printSchema()"
      ],
      "metadata": {
        "colab": {
          "base_uri": "https://localhost:8080/"
        },
        "id": "k8wge8o82FS3",
        "outputId": "e5e300f9-4ff2-4a5b-fdf4-46b37d8a407b"
      },
      "execution_count": 80,
      "outputs": [
        {
          "output_type": "stream",
          "name": "stdout",
          "text": [
            "root\n",
            " |-- Rating: string (nullable = true)\n",
            " |-- ReviewerID: string (nullable = true)\n",
            " |-- ProductID: string (nullable = true)\n",
            " |-- Timestamp: string (nullable = true)\n",
            " |-- ReviewText: string (nullable = true)\n",
            "\n"
          ]
        }
      ]
    },
    {
      "cell_type": "code",
      "source": [
        "# prompt: Convert the column Timestamp from the df dataframe which consists of string epoch data to date in the format \"yyyy-mmm-dd\" in a new column of the dataframe df 'Timestamp_date'\n",
        "\n",
        "from pyspark.sql import functions as F\n",
        "\n",
        "# Convert the Timestamp column to date format\n",
        "df = df.withColumn('Timestamp_date', F.to_date(F.from_unixtime(df.Timestamp)))\n",
        "\n",
        "# Show the DataFrame with the new column\n",
        "df.show()\n"
      ],
      "metadata": {
        "colab": {
          "base_uri": "https://localhost:8080/"
        },
        "id": "LY4ljVTM8qFN",
        "outputId": "fb5a88bf-bfed-484d-e024-c974bb3cbcf0"
      },
      "execution_count": 82,
      "outputs": [
        {
          "output_type": "stream",
          "name": "stdout",
          "text": [
            "+------+--------------+----------+----------+--------------------+--------------+\n",
            "|Rating|    ReviewerID| ProductID| Timestamp|          ReviewText|Timestamp_date|\n",
            "+------+--------------+----------+----------+--------------------+--------------+\n",
            "|     1|A3SK6VNBQDNBJE|1118461304|1383264000|I have enjoyed Dr...|    2013-11-01|\n",
            "|     3|A3SOFHUR27FO3K|1118461304|1381363200|Alan Gregerman be...|    2013-10-10|\n",
            "|     1|A1HOG1PYCAE157|1118461304|1381276800|Alan Gregerman is...|    2013-10-09|\n",
            "|     6|A26JGAM6GZMM4V|1118461304|1378512000|As I began to rea...|    2013-09-07|\n",
            "|     5|A17K8WANMYHTX2|1118461304|1399766400|I teach a class o...|    2014-05-11|\n",
            "|     3|A13IW3A6W43U0G|1118461304|1399593600|I so appreciated ...|    2014-05-09|\n",
            "|     6|A1ECEGG1MP7J8J|1118461304|1399420800|As with Surrounde...|    2014-05-07|\n",
            "|     1|A2D5X9G9S3A7RN|1118461304|1399161600|Alan Gregermans b...|    2014-05-04|\n",
            "|     6| AP2F86JFRQ205|1118461304|1398988800|I am a believer i...|    2014-05-02|\n",
            "|    10|A3VF3A5A3O04E1|1118461304|1397174400|A compelling book...|    2014-04-11|\n",
            "|     7|A14DW5UMQ1M96O|1118461304|1395273600|Alan Gregerman's ...|    2014-03-20|\n",
            "|     4|A2V7UVKOFG57IW|1118461304|1393459200|So refreshing to ...|    2014-02-27|\n",
            "|     9|A2BM5NTLX7CES1|1118461304|1391040000|In this book, the...|    2014-01-30|\n",
            "|     2|A1EQ5D5JRSW23K|1118461304|1390003200|What a great titl...|    2014-01-18|\n",
            "|     9|A1R2JUOGIYH6HO|1118461304|1389916800|The title of this...|    2014-01-17|\n",
            "|     8|A3JRW716H3AX14|1118461304|1389830400|This is a well wr...|    2014-01-16|\n",
            "|     8|A3KGLXW3EYDTUH|1118461304|1389744000|Common sense and ...|    2014-01-15|\n",
            "|     4|A1B70ZEWQ6UH1A|1118461304|1389398400|The stated premis...|    2014-01-11|\n",
            "|    10|A2I5QME4S7CLFI|1118461304|1389139200|I usually find bu...|    2014-01-08|\n",
            "|     6|A33HIV8RXRDM88|1118461304|1388966400|Seriously! We alw...|    2014-01-06|\n",
            "+------+--------------+----------+----------+--------------------+--------------+\n",
            "only showing top 20 rows\n",
            "\n"
          ]
        }
      ]
    },
    {
      "cell_type": "code",
      "source": [
        "df.printSchema()\n"
      ],
      "metadata": {
        "colab": {
          "base_uri": "https://localhost:8080/"
        },
        "id": "b8BWV2Jt2QEm",
        "outputId": "0c3c8c82-6b3a-4d71-a5a0-59b8ca20414c"
      },
      "execution_count": 83,
      "outputs": [
        {
          "output_type": "stream",
          "name": "stdout",
          "text": [
            "root\n",
            " |-- Rating: string (nullable = true)\n",
            " |-- ReviewerID: string (nullable = true)\n",
            " |-- ProductID: string (nullable = true)\n",
            " |-- Timestamp: string (nullable = true)\n",
            " |-- ReviewText: string (nullable = true)\n",
            " |-- Timestamp_date: date (nullable = true)\n",
            "\n"
          ]
        }
      ]
    },
    {
      "cell_type": "code",
      "source": [
        "df.show()"
      ],
      "metadata": {
        "colab": {
          "base_uri": "https://localhost:8080/"
        },
        "id": "TlYSN_rs2S24",
        "outputId": "f3125e19-11ec-4a40-c91c-cd63ea47cee0"
      },
      "execution_count": 52,
      "outputs": [
        {
          "output_type": "stream",
          "name": "stdout",
          "text": [
            "+------+--------------+----------+----------+--------------------+\n",
            "|Rating|    ReviewerID| ProductID| Timestamp|          ReviewText|\n",
            "+------+--------------+----------+----------+--------------------+\n",
            "|     1|A3SK6VNBQDNBJE|1118461304|1383264000|I have enjoyed Dr...|\n",
            "|     3|A3SOFHUR27FO3K|1118461304|1381363200|Alan Gregerman be...|\n",
            "|     1|A1HOG1PYCAE157|1118461304|1381276800|Alan Gregerman is...|\n",
            "|     6|A26JGAM6GZMM4V|1118461304|1378512000|As I began to rea...|\n",
            "|     5|A17K8WANMYHTX2|1118461304|1399766400|I teach a class o...|\n",
            "|     3|A13IW3A6W43U0G|1118461304|1399593600|I so appreciated ...|\n",
            "|     6|A1ECEGG1MP7J8J|1118461304|1399420800|As with Surrounde...|\n",
            "|     1|A2D5X9G9S3A7RN|1118461304|1399161600|Alan Gregermans b...|\n",
            "|     6| AP2F86JFRQ205|1118461304|1398988800|I am a believer i...|\n",
            "|    10|A3VF3A5A3O04E1|1118461304|1397174400|A compelling book...|\n",
            "|     7|A14DW5UMQ1M96O|1118461304|1395273600|Alan Gregerman's ...|\n",
            "|     4|A2V7UVKOFG57IW|1118461304|1393459200|So refreshing to ...|\n",
            "|     9|A2BM5NTLX7CES1|1118461304|1391040000|In this book, the...|\n",
            "|     2|A1EQ5D5JRSW23K|1118461304|1390003200|What a great titl...|\n",
            "|     9|A1R2JUOGIYH6HO|1118461304|1389916800|The title of this...|\n",
            "|     8|A3JRW716H3AX14|1118461304|1389830400|This is a well wr...|\n",
            "|     8|A3KGLXW3EYDTUH|1118461304|1389744000|Common sense and ...|\n",
            "|     4|A1B70ZEWQ6UH1A|1118461304|1389398400|The stated premis...|\n",
            "|    10|A2I5QME4S7CLFI|1118461304|1389139200|I usually find bu...|\n",
            "|     6|A33HIV8RXRDM88|1118461304|1388966400|Seriously! We alw...|\n",
            "+------+--------------+----------+----------+--------------------+\n",
            "only showing top 20 rows\n",
            "\n"
          ]
        }
      ]
    },
    {
      "cell_type": "code",
      "source": [
        "df1 = df.filter(F.year('Timestamp_date')==F.lit(2015))"
      ],
      "metadata": {
        "id": "7aYuKQ77_uh3"
      },
      "execution_count": 113,
      "outputs": []
    },
    {
      "cell_type": "code",
      "source": [
        "df1_sorted = df1.sort(\"Rating\",ascending = False)\n",
        "df1_sorted.show(20)\n",
        "\n",
        "Prod_20 = df1_sorted.groupBy('ProductID').agg(F.count(\"*\").alias('Product_count'))\n",
        "\n",
        "Prod_20 = Prod_20.sort('Product_count', ascending = False)\n",
        "\n",
        "Prod_20.show()\n"
      ],
      "metadata": {
        "colab": {
          "base_uri": "https://localhost:8080/"
        },
        "id": "tnYKV9p4A0NN",
        "outputId": "fa302fb6-624d-47bc-ec11-8cb1ca5edc8a"
      },
      "execution_count": 115,
      "outputs": [
        {
          "output_type": "stream",
          "name": "stdout",
          "text": [
            "+------+--------------+----------+----------+--------------------+--------------+\n",
            "|Rating|    ReviewerID| ProductID| Timestamp|          ReviewText|Timestamp_date|\n",
            "+------+--------------+----------+----------+--------------------+--------------+\n",
            "|     9|A2AQSV7K5FEXHK|B00006IV17|1427587200|Nice product-grea...|    2015-03-29|\n",
            "|     9|A3N6SSJUXCROPI|B00009W3I4|1433116800|Our old dryer ven...|    2015-06-01|\n",
            "|     9|A1465J3TJ3BKI5|B00006IV17|1425168000|Bed bash and beyo...|    2015-03-01|\n",
            "|     9| AN63ZGJT5LO9B|B00004YWK2|1428710400|Kind of meh. Does...|    2015-04-11|\n",
            "|     9|A150VHMFYQQ37E|B00006IV17|1423785600|It was exactly wh...|    2015-02-13|\n",
            "|     9| A5POJ3A2LVFB1|B00004YWK2|1436832000|For the money it ...|    2015-07-14|\n",
            "|     9|A2SJUILV7DFDEW|B00006IV17|1421020800|exactly as advert...|    2015-01-12|\n",
            "|     9|A24EAX9PUWHNYA|B00004YWK2|1427328000|Works as expected...|    2015-03-26|\n",
            "|     9|A3BBNA32BSRCAZ|B00006IV17|1420934400|Product arrived o...|    2015-01-11|\n",
            "|     9|A17M9O2F7LGWMF|B000056J8D|1427760000|The filters were ...|    2015-03-31|\n",
            "|     9| AD25EKPELBYJV|B00006IV17|1420156800|Nol problems note...|    2015-01-02|\n",
            "|     9|A1Z2PRLBAE6NTO|B00005OU6T|1448582400|         Perfect fit|    2015-11-27|\n",
            "|     9| ACCFYWZX4NETK|B00007E7RZ|1424044800|The item did not ...|    2015-02-16|\n",
            "|     9|A3OAYISCN3YJ0Q|B00006IV17|1451433600|It fit my humidif...|    2015-12-30|\n",
            "|     9| AJ9KBZWFFTHQG|B00007E7RQ|1450915200|Exact replacement...|    2015-12-24|\n",
            "|     9| AW48JPLOIPCES|B00006IV17|1442188800|Easy as pie and V...|    2015-09-14|\n",
            "|     9|A14HMQ2Y98WAMP|B00007E7RQ|1434240000|Great product har...|    2015-06-14|\n",
            "|     9|  AUC9HOKR5Z7Z|B00006IV17|1434412800|   Works as expected|    2015-06-16|\n",
            "|     9|A2AE0VO190Y4L6|B00007E7RQ|1429488000|A perfect fit for...|    2015-04-20|\n",
            "|     9|A163B7Z36XL3H4|B00006IV17|1431388800|Arrived on time, ...|    2015-05-12|\n",
            "+------+--------------+----------+----------+--------------------+--------------+\n",
            "only showing top 20 rows\n",
            "\n",
            "+----------+-------------+\n",
            "| ProductID|Product_count|\n",
            "+----------+-------------+\n",
            "|B000AST3AK|         1487|\n",
            "|B004UB1O9Q|         1471|\n",
            "|B00KJ07SEM|         1415|\n",
            "|B004INUWX0|          715|\n",
            "|B00E37TQV0|          658|\n",
            "|B0045LLC7K|          655|\n",
            "|B0014CN8Y8|          578|\n",
            "|B0042ACZU2|          555|\n",
            "|B00SPYDSFC|          453|\n",
            "|B001B35APA|          443|\n",
            "|B00DT5746Q|          433|\n",
            "|B00NIZ0DV0|          426|\n",
            "|B00INXG9MY|          421|\n",
            "|B000VL060M|          396|\n",
            "|B00AHR3IG4|          387|\n",
            "|B000HE5DNI|          386|\n",
            "|B00E37TR6E|          380|\n",
            "|B0053F80JA|          372|\n",
            "|B00LLM6ZFK|          363|\n",
            "|B0009GVYNW|          362|\n",
            "+----------+-------------+\n",
            "only showing top 20 rows\n",
            "\n"
          ]
        }
      ]
    },
    {
      "cell_type": "code",
      "source": [
        "prod_index = Prod_20.withColumn(\"ProdIndex\",F.monotonically_increasing_id())\n",
        "prod_index = prod_index.where(F.col('ProdIndex') < 20)\\\n",
        ".show()"
      ],
      "metadata": {
        "colab": {
          "base_uri": "https://localhost:8080/"
        },
        "id": "DjpIVOnBUp_T",
        "outputId": "fb648fb0-8350-41f2-c76f-74a2d7ba381a"
      },
      "execution_count": 116,
      "outputs": [
        {
          "output_type": "stream",
          "name": "stdout",
          "text": [
            "+----------+-------------+---------+\n",
            "| ProductID|Product_count|ProdIndex|\n",
            "+----------+-------------+---------+\n",
            "|B000AST3AK|         1487|        0|\n",
            "|B004UB1O9Q|         1471|        1|\n",
            "|B00KJ07SEM|         1415|        2|\n",
            "|B004INUWX0|          715|        3|\n",
            "|B00E37TQV0|          658|        4|\n",
            "|B0045LLC7K|          655|        5|\n",
            "|B0014CN8Y8|          578|        6|\n",
            "|B0042ACZU2|          555|        7|\n",
            "|B00SPYDSFC|          453|        8|\n",
            "|B001B35APA|          443|        9|\n",
            "|B00DT5746Q|          433|       10|\n",
            "|B00NIZ0DV0|          426|       11|\n",
            "|B00INXG9MY|          421|       12|\n",
            "|B000VL060M|          396|       13|\n",
            "|B00AHR3IG4|          387|       14|\n",
            "|B000HE5DNI|          386|       15|\n",
            "|B00E37TR6E|          380|       16|\n",
            "|B0053F80JA|          372|       17|\n",
            "|B00LLM6ZFK|          363|       18|\n",
            "|B0009GVYNW|          362|       19|\n",
            "+----------+-------------+---------+\n",
            "\n"
          ]
        }
      ]
    },
    {
      "cell_type": "markdown",
      "source": [
        "**Show the top 20 reviewers and the products they\n",
        "reviewed in 2015**"
      ],
      "metadata": {
        "id": "RdDZ2c-cBcp-"
      }
    },
    {
      "cell_type": "code",
      "source": [
        "reviewers = df1_sorted.groupBy('ReviewerID').agg(F.count(\"*\").alias('Reviewers_count'))\n",
        "\n",
        "reviewers = reviewers.sort('Reviewers_count', ascending = False)\n",
        "\n",
        "reviewers.show()\n",
        "\n",
        "reviewers_index = reviewers.withColumn(\"ReviewerIndex\",F.monotonically_increasing_id())\n",
        "reviewers_index.show(20)\n",
        "\n",
        "\n",
        "\n"
      ],
      "metadata": {
        "colab": {
          "base_uri": "https://localhost:8080/"
        },
        "id": "MXOz4pC6Bhx2",
        "outputId": "3ad11633-f798-40ae-fd67-bae37b86442b"
      },
      "execution_count": 101,
      "outputs": [
        {
          "output_type": "stream",
          "name": "stdout",
          "text": [
            "+--------------+---------------+\n",
            "|    ReviewerID|Reviewers_count|\n",
            "+--------------+---------------+\n",
            "|A2LDP3A4IE9T6T|            206|\n",
            "| AFUVGAUNQVT0S|             40|\n",
            "|A3H61AMBJ177DG|             29|\n",
            "|A3RSUFA7CIL3TS|             23|\n",
            "|A37C9W32E7WE1B|             18|\n",
            "|A37DQO5LU8DXTV|             17|\n",
            "|  AGADNX7MZ425|             16|\n",
            "|A2SEK167AI6DZM|             16|\n",
            "|A2CIEGHZ7L1WWR|             15|\n",
            "|A3R9MYRHDWHTVL|             14|\n",
            "|A2KRNK6HVD2DTY|             14|\n",
            "| AV052V61HYMAE|             13|\n",
            "| A41G22PCRD3E8|             12|\n",
            "| AXYJOIFBWO3K3|             11|\n",
            "|A13391AZAFJ67K|             11|\n",
            "| A6FPI5CM4W5WB|             11|\n",
            "|A17MK6PQZUDLXL|             10|\n",
            "|A1AJW9DILZFTQI|             10|\n",
            "|A1BTOP0JZS3YH8|              9|\n",
            "|A1ELL3S7RMZ4YN|              9|\n",
            "+--------------+---------------+\n",
            "only showing top 20 rows\n",
            "\n",
            "+--------------+---------------+-------------+\n",
            "|    ReviewerID|Reviewers_count|ReviewerIndex|\n",
            "+--------------+---------------+-------------+\n",
            "|A2LDP3A4IE9T6T|            206|            0|\n",
            "| AFUVGAUNQVT0S|             40|            1|\n",
            "|A3H61AMBJ177DG|             29|            2|\n",
            "|A3RSUFA7CIL3TS|             23|            3|\n",
            "|A37C9W32E7WE1B|             18|            4|\n",
            "|A37DQO5LU8DXTV|             17|            5|\n",
            "|  AGADNX7MZ425|             16|            6|\n",
            "|A2SEK167AI6DZM|             16|            7|\n",
            "|A2CIEGHZ7L1WWR|             15|            8|\n",
            "|A2KRNK6HVD2DTY|             14|            9|\n",
            "|A3R9MYRHDWHTVL|             14|           10|\n",
            "| AV052V61HYMAE|             13|           11|\n",
            "| A41G22PCRD3E8|             12|           12|\n",
            "| A6FPI5CM4W5WB|             11|           13|\n",
            "| AXYJOIFBWO3K3|             11|           14|\n",
            "|A13391AZAFJ67K|             11|           15|\n",
            "|A17MK6PQZUDLXL|             10|           16|\n",
            "|A1AJW9DILZFTQI|             10|           17|\n",
            "|A1BTOP0JZS3YH8|              9|           18|\n",
            "|A1HKSPTH19LXVZ|              9|           19|\n",
            "+--------------+---------------+-------------+\n",
            "only showing top 20 rows\n",
            "\n"
          ]
        }
      ]
    },
    {
      "cell_type": "code",
      "source": [
        "reviewers_index = reviewers_index.where(F.col('ReviewerIndex') < 20)\n",
        "reviewers_index.show()"
      ],
      "metadata": {
        "colab": {
          "base_uri": "https://localhost:8080/"
        },
        "id": "zbopoRUjOr2r",
        "outputId": "500b1060-8b3b-48ee-f176-3556fd4bf5a8"
      },
      "execution_count": 103,
      "outputs": [
        {
          "output_type": "stream",
          "name": "stdout",
          "text": [
            "+--------------+---------------+-------------+\n",
            "|    ReviewerID|Reviewers_count|ReviewerIndex|\n",
            "+--------------+---------------+-------------+\n",
            "|A2LDP3A4IE9T6T|            206|            0|\n",
            "| AFUVGAUNQVT0S|             40|            1|\n",
            "|A3H61AMBJ177DG|             29|            2|\n",
            "|A3RSUFA7CIL3TS|             23|            3|\n",
            "|A37C9W32E7WE1B|             18|            4|\n",
            "|A37DQO5LU8DXTV|             17|            5|\n",
            "|  AGADNX7MZ425|             16|            6|\n",
            "|A2SEK167AI6DZM|             16|            7|\n",
            "|A2CIEGHZ7L1WWR|             15|            8|\n",
            "|A2KRNK6HVD2DTY|             14|            9|\n",
            "|A3R9MYRHDWHTVL|             14|           10|\n",
            "| AV052V61HYMAE|             13|           11|\n",
            "| A41G22PCRD3E8|             12|           12|\n",
            "| A6FPI5CM4W5WB|             11|           13|\n",
            "| AXYJOIFBWO3K3|             11|           14|\n",
            "|A13391AZAFJ67K|             11|           15|\n",
            "|A17MK6PQZUDLXL|             10|           16|\n",
            "|A1AJW9DILZFTQI|             10|           17|\n",
            "|A1BTOP0JZS3YH8|              9|           18|\n",
            "|A1HKSPTH19LXVZ|              9|           19|\n",
            "+--------------+---------------+-------------+\n",
            "\n"
          ]
        }
      ]
    },
    {
      "cell_type": "code",
      "source": [
        "top_20 = reviewers_index.join(df1_sorted, reviewers_index['ReviewerID'] == df1_sorted['ReviewerID'])\n",
        "\n",
        "top_20.sort('ReviewerIndex', ascending=True)\\\n",
        ".show()"
      ],
      "metadata": {
        "colab": {
          "base_uri": "https://localhost:8080/"
        },
        "id": "xZsPg9S0RFBj",
        "outputId": "4a7c8d57-f044-4452-f78f-3d543ff172b6"
      },
      "execution_count": 129,
      "outputs": [
        {
          "output_type": "stream",
          "name": "stdout",
          "text": [
            "+--------------+---------------+-------------+------+--------------+----------+----------+--------------------+--------------+\n",
            "|    ReviewerID|Reviewers_count|ReviewerIndex|Rating|    ReviewerID| ProductID| Timestamp|          ReviewText|Timestamp_date|\n",
            "+--------------+---------------+-------------+------+--------------+----------+----------+--------------------+--------------+\n",
            "|A2LDP3A4IE9T6T|            206|            0|     9|A2LDP3A4IE9T6T|B0006GVNOA|1449273600|We have 24 foot o...|    2015-12-05|\n",
            "|A2LDP3A4IE9T6T|            206|            0|     6|A2LDP3A4IE9T6T|B0006GVNOA|1449273600|We have 24 foot o...|    2015-12-05|\n",
            "|A2LDP3A4IE9T6T|            206|            0|     1|A2LDP3A4IE9T6T|B0006GVNOA|1449273600|We have 24 foot o...|    2015-12-05|\n",
            "|A2LDP3A4IE9T6T|            206|            0|     5|A2LDP3A4IE9T6T|B0006GVNOA|1449273600|We have 24 foot o...|    2015-12-05|\n",
            "|A2LDP3A4IE9T6T|            206|            0|     4|A2LDP3A4IE9T6T|B0006GVNOA|1449273600|We have 24 foot o...|    2015-12-05|\n",
            "|A2LDP3A4IE9T6T|            206|            0|     7|A2LDP3A4IE9T6T|B0006GVNOA|1449273600|We have 24 foot o...|    2015-12-05|\n",
            "|A2LDP3A4IE9T6T|            206|            0|     3|A2LDP3A4IE9T6T|B0006GVNOA|1449273600|We have 24 foot o...|    2015-12-05|\n",
            "|A2LDP3A4IE9T6T|            206|            0|     6|A2LDP3A4IE9T6T|B0006GVNOA|1449273600|We have 24 foot o...|    2015-12-05|\n",
            "|A2LDP3A4IE9T6T|            206|            0|     1|A2LDP3A4IE9T6T|B0006GVNOA|1449273600|We have 24 foot o...|    2015-12-05|\n",
            "|A2LDP3A4IE9T6T|            206|            0|     9|A2LDP3A4IE9T6T|B0006GVNOA|1449273600|We have 24 foot o...|    2015-12-05|\n",
            "|A2LDP3A4IE9T6T|            206|            0|     2|A2LDP3A4IE9T6T|B0014CN8Y8|1449273600|We have 24 foot o...|    2015-12-05|\n",
            "|A2LDP3A4IE9T6T|            206|            0|     8|A2LDP3A4IE9T6T|B0014CN8Y8|1449273600|We have 24 foot o...|    2015-12-05|\n",
            "|A2LDP3A4IE9T6T|            206|            0|     9|A2LDP3A4IE9T6T|B0006GVNOA|1449273600|We have 24 foot o...|    2015-12-05|\n",
            "|A2LDP3A4IE9T6T|            206|            0|     5|A2LDP3A4IE9T6T|B0006GVNOA|1449273600|We have 24 foot o...|    2015-12-05|\n",
            "|A2LDP3A4IE9T6T|            206|            0|     1|A2LDP3A4IE9T6T|B0006GVNOA|1449273600|We have 24 foot o...|    2015-12-05|\n",
            "|A2LDP3A4IE9T6T|            206|            0|    10|A2LDP3A4IE9T6T|B0006GVNOA|1449273600|We have 24 foot o...|    2015-12-05|\n",
            "|A2LDP3A4IE9T6T|            206|            0|     6|A2LDP3A4IE9T6T|B0006GVNOA|1449273600|We have 24 foot o...|    2015-12-05|\n",
            "|A2LDP3A4IE9T6T|            206|            0|     2|A2LDP3A4IE9T6T|B0006GVNOA|1449273600|We have 24 foot o...|    2015-12-05|\n",
            "|A2LDP3A4IE9T6T|            206|            0|     1|A2LDP3A4IE9T6T|B0006GVNOA|1449273600|We have 24 foot o...|    2015-12-05|\n",
            "|A2LDP3A4IE9T6T|            206|            0|     5|A2LDP3A4IE9T6T|B0006GVNOA|1449273600|We have 24 foot o...|    2015-12-05|\n",
            "+--------------+---------------+-------------+------+--------------+----------+----------+--------------------+--------------+\n",
            "only showing top 20 rows\n",
            "\n"
          ]
        }
      ]
    },
    {
      "cell_type": "markdown",
      "source": [
        "**Determine whether the top 20 most reviewed products in 2015 are the same as the top 20 products with the highest average rating in 2015**"
      ],
      "metadata": {
        "id": "J746X2fXVSZZ"
      }
    },
    {
      "cell_type": "code",
      "source": [
        "Prod_rating_20 = df1_sorted.groupBy('ProductID').agg(F.avg('Rating').alias('avg_rating'))\n",
        "\n",
        "Prod_rating_20 = Prod_rating_20.sort('avg_rating', ascending = False)\n"
      ],
      "metadata": {
        "id": "y9XP6MeYTw3S"
      },
      "execution_count": 119,
      "outputs": []
    },
    {
      "cell_type": "code",
      "source": [
        "Prod_rating_20_index = Prod_rating_20.withColumn(\"RatingIndex\",F.monotonically_increasing_id())\n",
        "\n",
        "Prod_rating_20_index = Prod_rating_20_index.where(F.col('RatingIndex') < 20)\n",
        "Prod_rating_20_index.show()"
      ],
      "metadata": {
        "colab": {
          "base_uri": "https://localhost:8080/"
        },
        "id": "tw2gTpEhWPZq",
        "outputId": "79d2c503-3a3f-4651-8714-97fd865bad4e"
      },
      "execution_count": 120,
      "outputs": [
        {
          "output_type": "stream",
          "name": "stdout",
          "text": [
            "+----------+----------+-----------+\n",
            "| ProductID|avg_rating|RatingIndex|\n",
            "+----------+----------+-----------+\n",
            "|B00C6OT7TS|      10.0|          0|\n",
            "|B00VVMLH9E|      10.0|          1|\n",
            "|B000LOAV4A|      10.0|          2|\n",
            "|B0057P2H4K|      10.0|          3|\n",
            "|B00KA36KFG|      10.0|          4|\n",
            "|B00M3ECJG4|      10.0|          5|\n",
            "|B006O7BPE8|      10.0|          6|\n",
            "|B00BW6BZV4|      10.0|          7|\n",
            "|B00XK5UPYS|      10.0|          8|\n",
            "|B00C9YRSCS|      10.0|          9|\n",
            "|B00EN8N5ES|      10.0|         10|\n",
            "|B00LOX4DXW|      10.0|         11|\n",
            "|B00Y1TSJF4|      10.0|         12|\n",
            "|B00MHIXZD2|      10.0|         13|\n",
            "|B00QZPA8HE|      10.0|         14|\n",
            "|B004IMNTYK|      10.0|         15|\n",
            "|B00B9DZKE8|      10.0|         16|\n",
            "|B00LHRA5JQ|      10.0|         17|\n",
            "|B00MOCZLP6|      10.0|         18|\n",
            "|B00IASX0SI|      10.0|         19|\n",
            "+----------+----------+-----------+\n",
            "\n"
          ]
        }
      ]
    },
    {
      "cell_type": "code",
      "source": [
        "compare_20 = prod_index.join(Prod_rating_20_index, on='ProductID', how='left_anti')\n",
        "compare_20.show()"
      ],
      "metadata": {
        "colab": {
          "base_uri": "https://localhost:8080/",
          "height": 158
        },
        "id": "P6Z5KvkWWyNS",
        "outputId": "3e3326cc-54bc-402e-8104-2a6919ef4ce7"
      },
      "execution_count": 128,
      "outputs": [
        {
          "output_type": "error",
          "ename": "AttributeError",
          "evalue": "'NoneType' object has no attribute 'join'",
          "traceback": [
            "\u001b[0;31m---------------------------------------------------------------------------\u001b[0m",
            "\u001b[0;31mAttributeError\u001b[0m                            Traceback (most recent call last)",
            "\u001b[0;32m<ipython-input-128-832f3b6213d7>\u001b[0m in \u001b[0;36m<cell line: 1>\u001b[0;34m()\u001b[0m\n\u001b[0;32m----> 1\u001b[0;31m \u001b[0mcompare_20\u001b[0m \u001b[0;34m=\u001b[0m \u001b[0mprod_index\u001b[0m\u001b[0;34m.\u001b[0m\u001b[0mjoin\u001b[0m\u001b[0;34m(\u001b[0m\u001b[0mProd_rating_20_index\u001b[0m\u001b[0;34m,\u001b[0m \u001b[0mon\u001b[0m\u001b[0;34m=\u001b[0m\u001b[0;34m'ProductID'\u001b[0m\u001b[0;34m,\u001b[0m \u001b[0mhow\u001b[0m\u001b[0;34m=\u001b[0m\u001b[0;34m'left_anti'\u001b[0m\u001b[0;34m)\u001b[0m\u001b[0;34m\u001b[0m\u001b[0;34m\u001b[0m\u001b[0m\n\u001b[0m\u001b[1;32m      2\u001b[0m \u001b[0mcompare_20\u001b[0m\u001b[0;34m.\u001b[0m\u001b[0mshow\u001b[0m\u001b[0;34m(\u001b[0m\u001b[0;34m)\u001b[0m\u001b[0;34m\u001b[0m\u001b[0;34m\u001b[0m\u001b[0m\n",
            "\u001b[0;31mAttributeError\u001b[0m: 'NoneType' object has no attribute 'join'"
          ]
        }
      ]
    }
  ]
}